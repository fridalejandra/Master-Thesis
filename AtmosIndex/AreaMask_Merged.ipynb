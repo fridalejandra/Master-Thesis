{
 "cells": [
  {
   "cell_type": "code",
   "execution_count": 1,
   "metadata": {
    "collapsed": true
   },
   "outputs": [],
   "source": [
    "import warnings; warnings.filterwarnings(action='ignore')\n",
    "%matplotlib inline\n",
    "#for Netcdf manipulation\n",
    "import xarray as xr\n",
    "from netCDF4 import Dataset\n",
    "import netCDF4 as nc\n",
    "\n",
    "#for array manipulation\n",
    "import numpy as np\n",
    "import pandas as pd\n",
    "from pandas import DataFrame\n",
    "from pandas import Grouper"
   ]
  },
  {
   "cell_type": "code",
   "execution_count": 2,
   "outputs": [],
   "source": [
    "# read in files\n",
    "sic_file = '/Users/fridaperez/Developer/repos/volume-thickness/SIT_files/sseaice_conc_months5-10_02-18v03r1.nc'  # prepping path for xr\n",
    "data = xr.open_dataset(sic_file) # opening sit for xarray\n",
    "sic = data['seaice_conc_monthly_cdr']\n",
    "ln=data['longitude']\n",
    "lt=data['latitude']\n",
    "time=data[\"time\"]\n",
    "#turn to arrays\n",
    "latitude=lt.values\n",
    "longitude=ln.values\n",
    "conc=data['seaice_conc_monthly_cdr'].values\n",
    "lat_new=data['longitude'].values\n",
    "lon_new=data['latitude'].values"
   ],
   "metadata": {
    "collapsed": false,
    "pycharm": {
     "name": "#%%\n"
    }
   }
  },
  {
   "cell_type": "code",
   "execution_count": 3,
   "outputs": [],
   "source": [
    "areamaskfile = '/Users/fridaperez/Desktop/pss25area_v3.dat'\n",
    "with open(areamaskfile, 'rb') as famsk:\n",
    "    mask2 = np.fromfile(famsk, dtype=np.uint32)\n",
    "    areamaskf = np.array(mask2, dtype=float)/1000 # scaled by 1000 (divide by 1000 to get square km)"
   ],
   "metadata": {
    "collapsed": false,
    "pycharm": {
     "name": "#%%\n"
    }
   }
  },
  {
   "cell_type": "code",
   "execution_count": 4,
   "outputs": [
    {
     "data": {
      "text/plain": "array([444.053, 444.983, 445.91 , ..., 462.098, 461.12 , 460.139])"
     },
     "execution_count": 4,
     "metadata": {},
     "output_type": "execute_result"
    }
   ],
   "source": [
    "areamaskf"
   ],
   "metadata": {
    "collapsed": false,
    "pycharm": {
     "name": "#%%\n"
    }
   }
  },
  {
   "cell_type": "code",
   "execution_count": 5,
   "outputs": [],
   "source": [
    "mask = areamaskf.reshape(332,316)"
   ],
   "metadata": {
    "collapsed": false,
    "pycharm": {
     "name": "#%%\n"
    }
   }
  },
  {
   "cell_type": "code",
   "execution_count": 6,
   "outputs": [],
   "source": [
    "# area = np.zeros((np.shape(conc)[0], np.shape(conc)[1], np.shape(conc)[2]))\n",
    "#\n",
    "#\n",
    "# def multiplyDivideArray(arr1, arr2):\n",
    "#     for i in range(np.shape(arr1)[0]): #time\n",
    "#         for j in range(np.shape(arr1)[1]): #lat\n",
    "#             for k in range(np.shape(arr1)[2]):  #long\n",
    "#                 if arr1[i,j,k] >=  .15 and arr1[i,j,k] <= 1.0:\n",
    "#                     arr2[i,j,k] = arr1[i,j,k]*625\n",
    "#     return arr2\n",
    "#\n",
    "#\n",
    "# area = multiplyDivideArray(conc,area)\n",
    "# #print(area)"
   ],
   "metadata": {
    "collapsed": false,
    "pycharm": {
     "name": "#%%\n"
    }
   }
  },
  {
   "cell_type": "code",
   "execution_count": 7,
   "outputs": [
    {
     "data": {
      "text/plain": "(332, 316)"
     },
     "execution_count": 7,
     "metadata": {},
     "output_type": "execute_result"
    }
   ],
   "source": [
    "mask.shape"
   ],
   "metadata": {
    "collapsed": false,
    "pycharm": {
     "name": "#%%\n"
    }
   }
  },
  {
   "cell_type": "code",
   "execution_count": 8,
   "outputs": [
    {
     "data": {
      "text/plain": "(97, 332, 316)"
     },
     "execution_count": 8,
     "metadata": {},
     "output_type": "execute_result"
    }
   ],
   "source": [
    "conc.shape"
   ],
   "metadata": {
    "collapsed": false,
    "pycharm": {
     "name": "#%%\n"
    }
   }
  },
  {
   "cell_type": "code",
   "execution_count": 9,
   "outputs": [],
   "source": [
    "h = conc*mask"
   ],
   "metadata": {
    "collapsed": false,
    "pycharm": {
     "name": "#%%\n"
    }
   }
  },
  {
   "cell_type": "code",
   "execution_count": 10,
   "outputs": [
    {
     "data": {
      "text/plain": "array([[0., 0., 0., ..., 0., 0., 0.],\n       [0., 0., 0., ..., 0., 0., 0.],\n       [0., 0., 0., ..., 0., 0., 0.],\n       ...,\n       [0., 0., 0., ..., 0., 0., 0.],\n       [0., 0., 0., ..., 0., 0., 0.],\n       [0., 0., 0., ..., 0., 0., 0.]], dtype=float32)"
     },
     "execution_count": 10,
     "metadata": {},
     "output_type": "execute_result"
    }
   ],
   "source": [
    "conc[0]"
   ],
   "metadata": {
    "collapsed": false,
    "pycharm": {
     "name": "#%%\n"
    }
   }
  },
  {
   "cell_type": "code",
   "execution_count": 11,
   "outputs": [],
   "source": [
    "g = np.multiply(conc,mask)"
   ],
   "metadata": {
    "collapsed": false,
    "pycharm": {
     "name": "#%%\n"
    }
   }
  },
  {
   "cell_type": "code",
   "execution_count": 12,
   "outputs": [
    {
     "data": {
      "text/plain": "(97, 332, 316)"
     },
     "execution_count": 12,
     "metadata": {},
     "output_type": "execute_result"
    }
   ],
   "source": [
    "g.shape"
   ],
   "metadata": {
    "collapsed": false,
    "pycharm": {
     "name": "#%%\n"
    }
   }
  },
  {
   "cell_type": "code",
   "execution_count": 14,
   "outputs": [],
   "source": [
    "area_array = xr.DataArray(g)"
   ],
   "metadata": {
    "collapsed": false,
    "pycharm": {
     "name": "#%%\n"
    }
   }
  },
  {
   "cell_type": "code",
   "execution_count": 15,
   "outputs": [],
   "source": [
    "da = xr.DataArray(\n",
    "    data=area_array,\n",
    "    dims=[\"time\",\"ygrid\",\"xgrid\"],\n",
    "    coords=dict(\n",
    "        time=time,\n",
    "        longitude=([\"ygrid\",\"xgrid\"],longitude),\n",
    "        latitude=([\"ygrid\",\"xgrid\"],latitude),\n",
    "    ),\n",
    "    attrs=dict(\n",
    "        description=\"Sea Ice Area\",\n",
    "        units=\"km2\",\n",
    "    ),\n",
    ")"
   ],
   "metadata": {
    "collapsed": false,
    "pycharm": {
     "name": "#%%\n"
    }
   }
  },
  {
   "cell_type": "code",
   "execution_count": 16,
   "outputs": [],
   "source": [
    "#da.to_netcdf('/Users/fridaperez/Developer/repos/local_repo/Area_SH_Filled-316x332.nc') # remember to change paths"
   ],
   "metadata": {
    "collapsed": false,
    "pycharm": {
     "name": "#%%\n"
    }
   }
  },
  {
   "cell_type": "code",
   "execution_count": null,
   "outputs": [],
   "source": [
    "# file = '/Users/fridaperez/Developer/repos/volume-thickness/SIA_files/Area_CYS.nc' # again remember to change paths\n",
    "# datos = xr.open_dataset(file)"
   ],
   "metadata": {
    "collapsed": false,
    "pycharm": {
     "name": "#%%\n"
    }
   }
  },
  {
   "cell_type": "code",
   "execution_count": null,
   "outputs": [],
   "source": [
    "#newset=datos.rename_vars({'__xarray_dataarray_variable__':'area'})"
   ],
   "metadata": {
    "collapsed": false,
    "pycharm": {
     "name": "#%%\n"
    }
   }
  },
  {
   "cell_type": "code",
   "execution_count": null,
   "outputs": [],
   "source": [
    "# df=newset['area']"
   ],
   "metadata": {
    "collapsed": false,
    "pycharm": {
     "name": "#%%\n"
    }
   }
  },
  {
   "cell_type": "code",
   "execution_count": null,
   "outputs": [],
   "source": [
    "# m = Basemap(projection= 'spaeqd',boundinglat=-50,lon_0=-180,resolution='l')\n",
    "# x, y = m(longitude,latitude)\n",
    "# fig = plt.figure(figsize=(12,12))\n",
    "# m.fillcontinents(color='white',lake_color='white')\n",
    "# m.drawcoastlines()\n",
    "# m.drawparallels(np.arange(-80.,0.,20.))\n",
    "# m.drawmeridians(np.arange(-180.,181.,20.))\n",
    "# m.drawmapboundary(fill_color='lightblue')\n",
    "# m.contourf(x,y,df[40],40,cmap=cmocean.cm.thermal)\n",
    "# transform=ccrs.SouthPolarStereo()\n",
    "# plt.colorbar()"
   ],
   "metadata": {
    "collapsed": false,
    "pycharm": {
     "name": "#%%\n"
    }
   }
  }
 ],
 "metadata": {
  "kernelspec": {
   "display_name": "Python 3",
   "language": "python",
   "name": "python3"
  },
  "language_info": {
   "codemirror_mode": {
    "name": "ipython",
    "version": 2
   },
   "file_extension": ".py",
   "mimetype": "text/x-python",
   "name": "python",
   "nbconvert_exporter": "python",
   "pygments_lexer": "ipython2",
   "version": "2.7.6"
  }
 },
 "nbformat": 4,
 "nbformat_minor": 0
}