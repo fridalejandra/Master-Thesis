{
 "cells": [
  {
   "cell_type": "code",
   "execution_count": null,
   "metadata": {
    "collapsed": true,
    "pycharm": {
     "is_executing": true
    }
   },
   "outputs": [],
   "source": [
    "#--------Import packages\n",
    "#--------For Netcdf manipulation\n",
    "import xarray as xr\n",
    "from netCDF4 import Dataset\n",
    "import netCDF4 as nc\n",
    "\n",
    "#--------For array manipulation\n",
    "import numpy as np\n",
    "import pandas as pd\n",
    "from pandas import DataFrame\n",
    "from pandas import Grouper\n",
    "\n",
    "#--------For plotting\n",
    "# import cartopy.crs as ccrs\n",
    "# import cartopy.feature as cfeature\n",
    "import matplotlib.pylab as plt\n",
    "from mpl_toolkits.basemap import Basemap # plots maps\n",
    "from matplotlib.cbook import dedent\n",
    "import cmocean\n",
    "import seaborn as sns"
   ]
  },
  {
   "cell_type": "code",
   "execution_count": null,
   "outputs": [],
   "source": [
    "#-----Read in volume dataset\n",
    "f = '/Users/fridaperez/Developer/repos/local_repo/Volume_SH_ENV-CY2_2002-2018.nc'\n",
    "data = xr.open_dataset(f)"
   ],
   "metadata": {
    "collapsed": false,
    "pycharm": {
     "name": "#%%\n",
     "is_executing": true
    }
   }
  },
  {
   "cell_type": "code",
   "execution_count": null,
   "outputs": [],
   "source": [
    "data_nc =  nc.Dataset(f)\n",
    "lat = data_nc['latitude'][:]\n",
    "lon = data_nc['longitude'][:]"
   ],
   "metadata": {
    "collapsed": false,
    "pycharm": {
     "name": "#%%\n",
     "is_executing": true
    }
   }
  },
  {
   "cell_type": "code",
   "execution_count": null,
   "outputs": [],
   "source": [
    "time = data.time\n",
    "time = pd.to_datetime(time.data) #turning dates into a data frame\n",
    "df = data.volume"
   ],
   "metadata": {
    "collapsed": false,
    "pycharm": {
     "name": "#%%\n",
     "is_executing": true
    }
   }
  },
  {
   "cell_type": "code",
   "execution_count": null,
   "outputs": [],
   "source": [
    "# # Delineating Antarctic Regions\n",
    "# ### Weddell Advance\n",
    "## Create a matrix that is True where latitude is between 89S and 40S and False otherwise.\n",
    "lat_bounds = np.logical_and(df.latitude  >= -89.83, df.latitude <= -39.36)\n",
    "## Create a matrix that is True where longitude is between 70E and 165W and False otherwise.\n",
    "lon_bounds = np.logical_and(df.longitude <= -25.1077, df.longitude >= -65.0715)## Combine the lat_bounds and lon_bounds logical matrices:\n",
    "lat_lon_bounds = np.logical_and(lat_bounds, lon_bounds)\n",
    "## Finally, use where to mask out all volume values that do not fall within our lat_lon_bounds\n",
    "subset_space = df.where(lat_lon_bounds, np.nan)\n",
    "## Here we must change it to a float so that it can be handled by numpy\n",
    "subset_space = subset_space.astype('float64') #np.nanmean(subset_space)"
   ],
   "metadata": {
    "collapsed": false,
    "pycharm": {
     "name": "#%%\n",
     "is_executing": true
    }
   }
  },
  {
   "cell_type": "code",
   "execution_count": null,
   "outputs": [],
   "source": [
    "vol_mean_w=[]\n",
    "for y in range(len(subset_space)):\n",
    "    mean = np.nanmean(subset_space[y])\n",
    "    vol_mean_w.append(mean)"
   ],
   "metadata": {
    "collapsed": false,
    "pycharm": {
     "name": "#%%\n",
     "is_executing": true
    }
   }
  },
  {
   "cell_type": "code",
   "execution_count": null,
   "outputs": [],
   "source": [
    "# # Delineating Antarctic Regions\n",
    "# ### East Antarctica Advance\n",
    "## Create a matrix that is True where latitude is between 89S and 40S and False otherwise.\n",
    "lat_bounds = np.logical_and(df.latitude  >= -89.83, df.latitude <= -39.36)\n",
    "## Create a matrix that is True where longitude is between 70E and 165W and False otherwise.\n",
    "lon_bounds = np.logical_and(df.longitude >= 70.0, df.longitude <= 165.0)\n",
    "## Combine the lat_bounds and lon_bounds logical matrices:\n",
    "lat_lon_bounds = np.logical_and(lat_bounds, lon_bounds)\n",
    "## Finally, use where to mask out all volume values that do not fall within our lat_lon_bounds\n",
    "EA_subset_space = df.where(lat_lon_bounds, np.nan)\n",
    "## Here we must change it to a float so that it can be handled by numpy\n",
    "#EA_subset_space = EA_subset_space.to_array()\n",
    "EA_subset_space = EA_subset_space.astype('float64')"
   ],
   "metadata": {
    "collapsed": false,
    "pycharm": {
     "name": "#%%\n",
     "is_executing": true
    }
   }
  },
  {
   "cell_type": "code",
   "execution_count": null,
   "outputs": [],
   "source": [
    "vol_mean_ea=[]\n",
    "for y in range(len(EA_subset_space)):\n",
    "    mean = np.nanmean(EA_subset_space[y])\n",
    "    vol_mean_ea.append(mean)"
   ],
   "metadata": {
    "collapsed": false,
    "pycharm": {
     "name": "#%%\n",
     "is_executing": true
    }
   }
  },
  {
   "cell_type": "code",
   "execution_count": null,
   "outputs": [],
   "source": [
    "# # Delineating Antarctic Regions\n",
    "# ### King Hakon Advance\n",
    "## Create a matrix that is True where latitude is between 89S and 40S and False otherwise.\n",
    "lat_bounds = np.logical_and(df.latitude  >= -89.83, df.latitude <= -39.36)\n",
    "## Create a matrix that is True where longitude is between 70E and 165W and False otherwise.\n",
    "lon_bounds = np.logical_and(df.longitude <= -70.0, df.longitude >= -110.0)\n",
    "lat_lon_bounds = np.logical_and(lat_bounds, lon_bounds)\n",
    "## Finally, use where to mask out all volume values that do not fall within our lat_lon_bounds\n",
    "KH_subset_space = df.where(lat_lon_bounds, np.nan)\n",
    "\n",
    "## Here we must change it to a float so that it can be handled by numpy\n",
    "KH_subset_space = KH_subset_space.astype('float64')"
   ],
   "metadata": {
    "collapsed": false,
    "pycharm": {
     "name": "#%%\n",
     "is_executing": true
    }
   }
  },
  {
   "cell_type": "code",
   "execution_count": null,
   "outputs": [],
   "source": [
    "vol_mean_kh=[]\n",
    "for y in range(len(KH_subset_space)):\n",
    "    mean = np.nanmean(KH_subset_space[y])\n",
    "    vol_mean_kh.append(mean)"
   ],
   "metadata": {
    "collapsed": false,
    "pycharm": {
     "name": "#%%\n",
     "is_executing": true
    }
   }
  },
  {
   "cell_type": "code",
   "execution_count": null,
   "outputs": [],
   "source": [
    "# ### Ross-Amundsen Advance/Retreat\n",
    "## Create a matrix that is True where latitude is between 89S and 40S and False otherwise.\n",
    "lat_bounds = np.logical_and(df.latitude  >= -89.83, df.latitude <= -39.36)\n",
    "## Create a matrix that is True where longitude is between 70E and 165W and False otherwise.\n",
    "lon_bounds = np.logical_and(df.longitude <=165.282, df.longitude <= -110.524)\n",
    "lat_lon_bounds = np.logical_and(lat_bounds, lon_bounds)\n",
    "## Finally, use where to mask out all volume values that do not fall within our lat_lon_bounds\n",
    "subset_space_RA = df.where(lat_lon_bounds, np.nan)\n",
    "\n",
    "## Here we must change it to a float so that it can be handled by numpy\n",
    "#EA_subset_space = EA_subset_space.to_array()\n",
    "subset_space_RA = subset_space_RA.astype('float64')"
   ],
   "metadata": {
    "collapsed": false,
    "pycharm": {
     "name": "#%%\n",
     "is_executing": true
    }
   }
  },
  {
   "cell_type": "code",
   "execution_count": null,
   "outputs": [],
   "source": [
    "vol_mean_ra=[]\n",
    "for y in range(len(subset_space_RA)):\n",
    "    mean = np.nanmean(subset_space_RA[y])\n",
    "    vol_mean_ra.append(mean)"
   ],
   "metadata": {
    "collapsed": false,
    "pycharm": {
     "name": "#%%\n",
     "is_executing": true
    }
   }
  },
  {
   "cell_type": "code",
   "execution_count": null,
   "outputs": [],
   "source": [
    "# # Delineating Antarctic Regions\n",
    "# ### ABS Advance\n",
    "## Create a matrix that is True where latitude is between 89S and 40S and False otherwise.\n",
    "lat_bounds = np.logical_and(df.latitude  >= -89.83, df.latitude <= -39.36)\n",
    "## Create a matrix that is True where longitude is between 70E and 165W and False otherwise.\n",
    "lon_bounds = np.logical_and(df.longitude <= -70.0, df.longitude >= -110.0)\n",
    "lat_lon_bounds = np.logical_and(lat_bounds, lon_bounds)\n",
    "## Finally, use where to mask out all volume values that do not fall within our lat_lon_bounds\n",
    "subset_space_abs = df.where(lat_lon_bounds, np.nan)\n",
    "\n",
    "## Here we must change it to a float so that it can be handled by numpy\n",
    "subset_space_abs = subset_space_abs.astype('float64')"
   ],
   "metadata": {
    "collapsed": false,
    "pycharm": {
     "name": "#%%\n",
     "is_executing": true
    }
   }
  },
  {
   "cell_type": "code",
   "execution_count": null,
   "outputs": [],
   "source": [
    "vol_mean_abs=[]\n",
    "for y in range(len(subset_space_abs)):\n",
    "    mean = np.nanmean(subset_space_abs[y])\n",
    "    vol_mean_abs.append(mean)"
   ],
   "metadata": {
    "collapsed": false,
    "pycharm": {
     "name": "#%%\n",
     "is_executing": true
    }
   }
  },
  {
   "cell_type": "code",
   "execution_count": null,
   "outputs": [],
   "source": [
    "vol_mean_abs = pd.DataFrame(vol_mean_abs)\n",
    "vol_mean_w = pd.DataFrame(vol_mean_w)\n",
    "vol_mean_ea = pd.DataFrame(vol_mean_ea)\n",
    "vol_mean_kh = pd.DataFrame(vol_mean_kh)\n",
    "vol_mean_ra = pd.DataFrame(vol_mean_ra)"
   ],
   "metadata": {
    "collapsed": false,
    "pycharm": {
     "name": "#%%\n",
     "is_executing": true
    }
   }
  },
  {
   "cell_type": "code",
   "execution_count": null,
   "outputs": [],
   "source": [
    "vol_mean_abs.to_csv('/Users/fridaperez/Developer/repos/local_repo/CCF/vol_mean_abs.csv')\n",
    "vol_mean_ra.to_csv('/Users/fridaperez/Developer/repos/local_repo/CCF/vol_mean_ra.csv')\n",
    "vol_mean_kh.to_csv('/Users/fridaperez/Developer/repos/local_repo/CCF/vol_mean_kh.csv')\n",
    "vol_mean_ea.to_csv('/Users/fridaperez/Developer/repos/local_repo/CCF/vol_mean_ea.csv')\n",
    "vol_mean_w.to_csv('/Users/fridaperez/Developer/repos/local_repo/CCF/vol_mean_w.csv')"
   ],
   "metadata": {
    "collapsed": false,
    "pycharm": {
     "name": "#%%\n",
     "is_executing": true
    }
   }
  },
  {
   "cell_type": "code",
   "execution_count": null,
   "outputs": [],
   "source": [],
   "metadata": {
    "collapsed": false,
    "pycharm": {
     "name": "#%%\n",
     "is_executing": true
    }
   }
  }
 ],
 "metadata": {
  "kernelspec": {
   "display_name": "Python 3",
   "language": "python",
   "name": "python3"
  },
  "language_info": {
   "codemirror_mode": {
    "name": "ipython",
    "version": 2
   },
   "file_extension": ".py",
   "mimetype": "text/x-python",
   "name": "python",
   "nbconvert_exporter": "python",
   "pygments_lexer": "ipython2",
   "version": "2.7.6"
  }
 },
 "nbformat": 4,
 "nbformat_minor": 0
}