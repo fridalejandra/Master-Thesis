{
 "cells": [
  {
   "cell_type": "code",
   "execution_count": 1,
   "metadata": {
    "collapsed": true
   },
   "outputs": [],
   "source": [
    "#--------Import packages\n",
    "#--------For Netcdf manipulation\n",
    "import statsmodels.tsa.stattools\n",
    "import xarray as xr\n",
    "from netCDF4 import Dataset\n",
    "import netCDF4 as nc\n",
    "\n",
    "#--------For array manipulation\n",
    "import numpy as np\n",
    "import pandas as pd\n",
    "from pandas import DataFrame\n",
    "from pandas import Grouper\n",
    "\n",
    "#--------For plotting\n",
    "# import cartopy.crs as ccrs\n",
    "# import cartopy.feature as cfeature\n",
    "# import matplotlib.pylab as plt\n",
    "from mpl_toolkits.basemap import Basemap # plots maps\n",
    "from matplotlib.cbook import dedent\n",
    "#import cmocean\n",
    "import seaborn as sns"
   ]
  },
  {
   "cell_type": "code",
   "execution_count": 2,
   "outputs": [],
   "source": [
    "#-----Read in volume dataset as dataframe\n",
    "vol_df = pd.read_csv('/Users/fridaperez/Developer/repos/local_repo/CCF/vol_mean_abs.csv')\n",
    "#-----Read in SAM as dataframe\n",
    "sam_df = pd.read_csv('/Users/fridaperez/Developer/repos/local_repo/AtmosIndex/sam_long.csv',parse_dates=['Dates'])\n",
    "#-----Read in dates  as dataframe\n",
    "dates_df = pd.read_csv('/Users/fridaperez/Developer/repos/local_repo/CCF/dates_df.csv')"
   ],
   "metadata": {
    "collapsed": false,
    "pycharm": {
     "name": "#%%\n"
    }
   }
  },
  {
   "cell_type": "code",
   "execution_count": 3,
   "outputs": [],
   "source": [
    "dates_df['Dates'] = dates_df['Dates'].astype('datetime64[ns]')\n",
    "sam_df = sam_df.drop([\"Years\", \"Months\"], axis=1)\n",
    "\n",
    "# Get dates  for only May -October\n",
    "sam_df = sam_df[(sam_df.Dates.dt.month >= 5) & (sam_df.Dates.dt.month <= 10)]\n",
    "# Here we set the index so that we can filter using iloc\n",
    "sam_df = sam_df.set_index('Dates')\n",
    "sam_df = sam_df.loc['2002-05-01':'2018-10-01']\n",
    "## Removing the first 5 rows/dates\n",
    "sam_df  = sam_df.iloc[5:]"
   ],
   "metadata": {
    "collapsed": false,
    "pycharm": {
     "name": "#%%\n"
    }
   }
  },
  {
   "cell_type": "code",
   "execution_count": 4,
   "outputs": [],
   "source": [
    "# we now want the 'Dates' as a normal column and not an index\n",
    "sam_df = sam_df.reset_index()\n",
    "# Combining the SAM and SIV Dates\n",
    "df_new = sam_df.copy()\n",
    "df_new[\"SIV\"] = vol_df[\"SIV\"]"
   ],
   "metadata": {
    "collapsed": false,
    "pycharm": {
     "name": "#%%\n"
    }
   }
  },
  {
   "cell_type": "code",
   "execution_count": 5,
   "outputs": [
    {
     "data": {
      "text/plain": "        Dates   SAM          SIV\n0  2007-05-01 -1.02  1123.249095\n1  2008-05-01 -0.66   739.475298\n2  2009-05-01 -0.14   968.900120\n3  2010-05-01  1.51   973.981453\n4  2011-05-01  1.37   854.359283\n..        ...   ...          ...\n92 2014-10-01  1.32  1017.586997\n93 2015-10-01 -0.66  1271.630218\n94 2016-10-01 -0.89  1336.782919\n95 2017-10-01 -0.64  1258.799548\n96 2018-10-01  2.76  1019.990329\n\n[97 rows x 3 columns]",
      "text/html": "<div>\n<style scoped>\n    .dataframe tbody tr th:only-of-type {\n        vertical-align: middle;\n    }\n\n    .dataframe tbody tr th {\n        vertical-align: top;\n    }\n\n    .dataframe thead th {\n        text-align: right;\n    }\n</style>\n<table border=\"1\" class=\"dataframe\">\n  <thead>\n    <tr style=\"text-align: right;\">\n      <th></th>\n      <th>Dates</th>\n      <th>SAM</th>\n      <th>SIV</th>\n    </tr>\n  </thead>\n  <tbody>\n    <tr>\n      <th>0</th>\n      <td>2007-05-01</td>\n      <td>-1.02</td>\n      <td>1123.249095</td>\n    </tr>\n    <tr>\n      <th>1</th>\n      <td>2008-05-01</td>\n      <td>-0.66</td>\n      <td>739.475298</td>\n    </tr>\n    <tr>\n      <th>2</th>\n      <td>2009-05-01</td>\n      <td>-0.14</td>\n      <td>968.900120</td>\n    </tr>\n    <tr>\n      <th>3</th>\n      <td>2010-05-01</td>\n      <td>1.51</td>\n      <td>973.981453</td>\n    </tr>\n    <tr>\n      <th>4</th>\n      <td>2011-05-01</td>\n      <td>1.37</td>\n      <td>854.359283</td>\n    </tr>\n    <tr>\n      <th>...</th>\n      <td>...</td>\n      <td>...</td>\n      <td>...</td>\n    </tr>\n    <tr>\n      <th>92</th>\n      <td>2014-10-01</td>\n      <td>1.32</td>\n      <td>1017.586997</td>\n    </tr>\n    <tr>\n      <th>93</th>\n      <td>2015-10-01</td>\n      <td>-0.66</td>\n      <td>1271.630218</td>\n    </tr>\n    <tr>\n      <th>94</th>\n      <td>2016-10-01</td>\n      <td>-0.89</td>\n      <td>1336.782919</td>\n    </tr>\n    <tr>\n      <th>95</th>\n      <td>2017-10-01</td>\n      <td>-0.64</td>\n      <td>1258.799548</td>\n    </tr>\n    <tr>\n      <th>96</th>\n      <td>2018-10-01</td>\n      <td>2.76</td>\n      <td>1019.990329</td>\n    </tr>\n  </tbody>\n</table>\n<p>97 rows × 3 columns</p>\n</div>"
     },
     "execution_count": 5,
     "metadata": {},
     "output_type": "execute_result"
    }
   ],
   "source": [
    "df_new"
   ],
   "metadata": {
    "collapsed": false,
    "pycharm": {
     "name": "#%%\n"
    }
   }
  },
  {
   "cell_type": "code",
   "execution_count": 8,
   "outputs": [
    {
     "data": {
      "text/plain": "          SAM       SIV\nSAM  1.000000 -0.130299\nSIV -0.130299  1.000000",
      "text/html": "<div>\n<style scoped>\n    .dataframe tbody tr th:only-of-type {\n        vertical-align: middle;\n    }\n\n    .dataframe tbody tr th {\n        vertical-align: top;\n    }\n\n    .dataframe thead th {\n        text-align: right;\n    }\n</style>\n<table border=\"1\" class=\"dataframe\">\n  <thead>\n    <tr style=\"text-align: right;\">\n      <th></th>\n      <th>SAM</th>\n      <th>SIV</th>\n    </tr>\n  </thead>\n  <tbody>\n    <tr>\n      <th>SAM</th>\n      <td>1.000000</td>\n      <td>-0.130299</td>\n    </tr>\n    <tr>\n      <th>SIV</th>\n      <td>-0.130299</td>\n      <td>1.000000</td>\n    </tr>\n  </tbody>\n</table>\n</div>"
     },
     "execution_count": 8,
     "metadata": {},
     "output_type": "execute_result"
    }
   ],
   "source": [
    "df_new.corr(min_periods=6)"
   ],
   "metadata": {
    "collapsed": false,
    "pycharm": {
     "name": "#%%\n"
    }
   }
  },
  {
   "cell_type": "code",
   "execution_count": 6,
   "outputs": [
    {
     "name": "stderr",
     "output_type": "stream",
     "text": [
      "/Users/fridaperez/miniconda3/envs/basemap_stable/lib/python3.8/site-packages/pandas/core/arrays/datetimes.py:1101: UserWarning: Converting to PeriodArray/Index representation will drop timezone information.\n",
      "  warnings.warn(\n"
     ]
    }
   ],
   "source": [
    "import numpy as np\n",
    "import pandas as pd\n",
    "import matplotlib.pyplot as plt\n",
    "#import rpy2.robjects as robjects\n",
    "import statsmodels.api as sm\n",
    "from statsmodels.formula.api import ols\n",
    "\n",
    "from astsadata import *\n",
    "dir = '/Users/fridaperez/Developer/repos/local_repo/pub_plots/'\n",
    "\n",
    "def month_ccf_sam(df):\n",
    "    x = [2003,2004,2005,2006,2007,2008,2009,2010,2011,2012,2013,2014,2015,2016,2017,2018]\n",
    "    df_selmons = []\n",
    "    df_vol_selmons = []\n",
    "    df_sam_selmons = []\n",
    "    cdfs = []\n",
    "    df_list = []\n",
    "    ind0 = 0\n",
    "    for i in x:\n",
    "        df_selmon = df[df['Dates'].dt.year.isin([i])]\n",
    "        ccf_df = statsmodels.tsa.stattools.ccf(df_selmon.SAM, df_selmon.SIV, adjusted=False)\n",
    "        ccf_df = pd.DataFrame(ccf_df, columns=['CCF'])\n",
    "        df_selmons.append(df_selmon)\n",
    "        #print(ccf_df)\n",
    "        cdfs.append(ccf_df)\n",
    "        ## Separate the two columns\n",
    "        # SIV #\n",
    "        df_vol_selmon = df_selmon[['Dates', 'SIV']]\n",
    "        df_vol_selmon['Dates'] = df_vol_selmon['Dates'].dt.to_period('M')\n",
    "        df_vol_selmon = df_vol_selmon.set_index(['Dates'])\n",
    "        df_vol_selmons.append(df_vol_selmon)\n",
    "        #print(df_vol_selmons)\n",
    "        # SAM #\n",
    "        df_sam_selmon = df_selmon[['Dates', 'SAM']]\n",
    "        df_sam_selmon['Dates'] = df_sam_selmon['Dates'].dt.to_period('M')\n",
    "        df_sam_selmon = df_sam_selmon.set_index(['Dates'])\n",
    "        df_sam_selmons.append(df_sam_selmon)\n",
    "        #return cdfs\n",
    "    # PLOT #\n",
    "    for x in range(6):\n",
    "\n",
    "        fig, axes = plt.subplots(nrows=2, ncols=3, figsize=(13, 10))\n",
    "        lag = 0\n",
    "        for i in range(6):\n",
    "            row =0 if i <= 2 else 1\n",
    "            col = i if i <=2 else i-3\n",
    "            lowess = sm.nonparametric.lowess(df_vol_selmons[x].iloc[:, 0], df_sam_selmons[x].iloc[:, 0].shift(lag))\n",
    "            axes[row, col].scatter(df_sam_selmons[x].shift(lag), df_vol_selmons[x])\n",
    "            axes[row, col].set_title(f\"SAM (t-{lag})\")\n",
    "            axes[row, col].set_ylabel(\"SIV (t)\")\n",
    "            axes[row, col].plot(lowess[:, 0], lowess[:, 1], color=\"red\")\n",
    "            axes[row, col].text(s=round(cdfs[x].loc[i][0],3), x = .95, y = 0.05, transform = axes[row, col].transAxes, ha = 'right') #ha, horizontal line\n",
    "            lag += 1\n",
    "        fig.tight_layout()\n",
    "        #plt.savefig(dir + str(x))\n"
   ],
   "metadata": {
    "collapsed": false,
    "pycharm": {
     "name": "#%%\n"
    }
   }
  },
  {
   "cell_type": "code",
   "execution_count": 7,
   "outputs": [
    {
     "name": "stderr",
     "output_type": "stream",
     "text": [
      "/var/folders/f1/8zx2wbhx4vb8626x_99mwyx40000gn/T/ipykernel_6314/460619100.py:29: SettingWithCopyWarning: \n",
      "A value is trying to be set on a copy of a slice from a DataFrame.\n",
      "Try using .loc[row_indexer,col_indexer] = value instead\n",
      "\n",
      "See the caveats in the documentation: https://pandas.pydata.org/pandas-docs/stable/user_guide/indexing.html#returning-a-view-versus-a-copy\n",
      "  df_vol_selmon['Dates'] = df_vol_selmon['Dates'].dt.to_period('M')\n",
      "/var/folders/f1/8zx2wbhx4vb8626x_99mwyx40000gn/T/ipykernel_6314/460619100.py:35: SettingWithCopyWarning: \n",
      "A value is trying to be set on a copy of a slice from a DataFrame.\n",
      "Try using .loc[row_indexer,col_indexer] = value instead\n",
      "\n",
      "See the caveats in the documentation: https://pandas.pydata.org/pandas-docs/stable/user_guide/indexing.html#returning-a-view-versus-a-copy\n",
      "  df_sam_selmon['Dates'] = df_sam_selmon['Dates'].dt.to_period('M')\n",
      "/Users/fridaperez/miniconda3/envs/basemap_stable/lib/python3.8/site-packages/statsmodels/nonparametric/smoothers_lowess.py:227: RuntimeWarning: invalid value encountered in true_divide\n",
      "  res, _ = _lowess(y, x, x, np.ones_like(x),\n",
      "/Users/fridaperez/miniconda3/envs/basemap_stable/lib/python3.8/site-packages/numpy/core/fromnumeric.py:3372: RuntimeWarning: Mean of empty slice.\n",
      "  return _methods._mean(a, axis=axis, dtype=dtype,\n",
      "/Users/fridaperez/miniconda3/envs/basemap_stable/lib/python3.8/site-packages/numpy/core/_methods.py:170: RuntimeWarning: invalid value encountered in double_scalars\n",
      "  ret = ret.dtype.type(ret / rcount)\n"
     ]
    },
    {
     "ename": "KeyError",
     "evalue": "5",
     "output_type": "error",
     "traceback": [
      "\u001B[0;31m---------------------------------------------------------------------------\u001B[0m",
      "\u001B[0;31mValueError\u001B[0m                                Traceback (most recent call last)",
      "File \u001B[0;32m~/miniconda3/envs/basemap_stable/lib/python3.8/site-packages/pandas/core/indexes/range.py:350\u001B[0m, in \u001B[0;36mRangeIndex.get_loc\u001B[0;34m(self, key, method, tolerance)\u001B[0m\n\u001B[1;32m    349\u001B[0m \u001B[38;5;28;01mtry\u001B[39;00m:\n\u001B[0;32m--> 350\u001B[0m     \u001B[38;5;28;01mreturn\u001B[39;00m \u001B[38;5;28;43mself\u001B[39;49m\u001B[38;5;241;43m.\u001B[39;49m\u001B[43m_range\u001B[49m\u001B[38;5;241;43m.\u001B[39;49m\u001B[43mindex\u001B[49m\u001B[43m(\u001B[49m\u001B[43mnew_key\u001B[49m\u001B[43m)\u001B[49m\n\u001B[1;32m    351\u001B[0m \u001B[38;5;28;01mexcept\u001B[39;00m \u001B[38;5;167;01mValueError\u001B[39;00m:\n",
      "\u001B[0;31mValueError\u001B[0m: 5 is not in range",
      "\nDuring handling of the above exception, another exception occurred:\n",
      "\u001B[0;31mKeyError\u001B[0m                                  Traceback (most recent call last)",
      "Input \u001B[0;32mIn [7]\u001B[0m, in \u001B[0;36m<cell line: 1>\u001B[0;34m()\u001B[0m\n\u001B[0;32m----> 1\u001B[0m \u001B[43mmonth_ccf_sam\u001B[49m\u001B[43m(\u001B[49m\u001B[43mdf_new\u001B[49m\u001B[43m)\u001B[49m\n",
      "Input \u001B[0;32mIn [6]\u001B[0m, in \u001B[0;36mmonth_ccf_sam\u001B[0;34m(df)\u001B[0m\n\u001B[1;32m     50\u001B[0m     axes[row, col]\u001B[38;5;241m.\u001B[39mset_ylabel(\u001B[38;5;124m\"\u001B[39m\u001B[38;5;124mSIV (t)\u001B[39m\u001B[38;5;124m\"\u001B[39m)\n\u001B[1;32m     51\u001B[0m     axes[row, col]\u001B[38;5;241m.\u001B[39mplot(lowess[:, \u001B[38;5;241m0\u001B[39m], lowess[:, \u001B[38;5;241m1\u001B[39m], color\u001B[38;5;241m=\u001B[39m\u001B[38;5;124m\"\u001B[39m\u001B[38;5;124mred\u001B[39m\u001B[38;5;124m\"\u001B[39m)\n\u001B[0;32m---> 52\u001B[0m     axes[row, col]\u001B[38;5;241m.\u001B[39mtext(s\u001B[38;5;241m=\u001B[39m\u001B[38;5;28mround\u001B[39m(\u001B[43mcdfs\u001B[49m\u001B[43m[\u001B[49m\u001B[43mx\u001B[49m\u001B[43m]\u001B[49m\u001B[38;5;241;43m.\u001B[39;49m\u001B[43mloc\u001B[49m\u001B[43m[\u001B[49m\u001B[43mi\u001B[49m\u001B[43m]\u001B[49m[\u001B[38;5;241m0\u001B[39m],\u001B[38;5;241m3\u001B[39m), x \u001B[38;5;241m=\u001B[39m \u001B[38;5;241m.95\u001B[39m, y \u001B[38;5;241m=\u001B[39m \u001B[38;5;241m0.05\u001B[39m, transform \u001B[38;5;241m=\u001B[39m axes[row, col]\u001B[38;5;241m.\u001B[39mtransAxes, ha \u001B[38;5;241m=\u001B[39m \u001B[38;5;124m'\u001B[39m\u001B[38;5;124mright\u001B[39m\u001B[38;5;124m'\u001B[39m) \u001B[38;5;66;03m#ha, horizontal line\u001B[39;00m\n\u001B[1;32m     53\u001B[0m     lag \u001B[38;5;241m+\u001B[39m\u001B[38;5;241m=\u001B[39m \u001B[38;5;241m1\u001B[39m\n\u001B[1;32m     54\u001B[0m fig\u001B[38;5;241m.\u001B[39mtight_layout()\n",
      "File \u001B[0;32m~/miniconda3/envs/basemap_stable/lib/python3.8/site-packages/pandas/core/indexing.py:1768\u001B[0m, in \u001B[0;36m_LocationIndexer.__getitem__\u001B[0;34m(self, key)\u001B[0m\n\u001B[1;32m   1765\u001B[0m axis \u001B[38;5;241m=\u001B[39m \u001B[38;5;28mself\u001B[39m\u001B[38;5;241m.\u001B[39maxis \u001B[38;5;129;01mor\u001B[39;00m \u001B[38;5;241m0\u001B[39m\n\u001B[1;32m   1767\u001B[0m maybe_callable \u001B[38;5;241m=\u001B[39m com\u001B[38;5;241m.\u001B[39mapply_if_callable(key, \u001B[38;5;28mself\u001B[39m\u001B[38;5;241m.\u001B[39mobj)\n\u001B[0;32m-> 1768\u001B[0m \u001B[38;5;28;01mreturn\u001B[39;00m \u001B[38;5;28;43mself\u001B[39;49m\u001B[38;5;241;43m.\u001B[39;49m\u001B[43m_getitem_axis\u001B[49m\u001B[43m(\u001B[49m\u001B[43mmaybe_callable\u001B[49m\u001B[43m,\u001B[49m\u001B[43m \u001B[49m\u001B[43maxis\u001B[49m\u001B[38;5;241;43m=\u001B[39;49m\u001B[43maxis\u001B[49m\u001B[43m)\u001B[49m\n",
      "File \u001B[0;32m~/miniconda3/envs/basemap_stable/lib/python3.8/site-packages/pandas/core/indexing.py:1965\u001B[0m, in \u001B[0;36m_LocIndexer._getitem_axis\u001B[0;34m(self, key, axis)\u001B[0m\n\u001B[1;32m   1963\u001B[0m \u001B[38;5;66;03m# fall thru to straight lookup\u001B[39;00m\n\u001B[1;32m   1964\u001B[0m \u001B[38;5;28mself\u001B[39m\u001B[38;5;241m.\u001B[39m_validate_key(key, axis)\n\u001B[0;32m-> 1965\u001B[0m \u001B[38;5;28;01mreturn\u001B[39;00m \u001B[38;5;28;43mself\u001B[39;49m\u001B[38;5;241;43m.\u001B[39;49m\u001B[43m_get_label\u001B[49m\u001B[43m(\u001B[49m\u001B[43mkey\u001B[49m\u001B[43m,\u001B[49m\u001B[43m \u001B[49m\u001B[43maxis\u001B[49m\u001B[38;5;241;43m=\u001B[39;49m\u001B[43maxis\u001B[49m\u001B[43m)\u001B[49m\n",
      "File \u001B[0;32m~/miniconda3/envs/basemap_stable/lib/python3.8/site-packages/pandas/core/indexing.py:625\u001B[0m, in \u001B[0;36m_NDFrameIndexer._get_label\u001B[0;34m(self, label, axis)\u001B[0m\n\u001B[1;32m    622\u001B[0m \u001B[38;5;28;01melif\u001B[39;00m \u001B[38;5;28misinstance\u001B[39m(label, \u001B[38;5;28mtuple\u001B[39m) \u001B[38;5;129;01mand\u001B[39;00m \u001B[38;5;28misinstance\u001B[39m(label[axis], \u001B[38;5;28mslice\u001B[39m):\n\u001B[1;32m    623\u001B[0m     \u001B[38;5;28;01mraise\u001B[39;00m IndexingError(\u001B[38;5;124m\"\u001B[39m\u001B[38;5;124mno slices here, handle elsewhere\u001B[39m\u001B[38;5;124m\"\u001B[39m)\n\u001B[0;32m--> 625\u001B[0m \u001B[38;5;28;01mreturn\u001B[39;00m \u001B[38;5;28;43mself\u001B[39;49m\u001B[38;5;241;43m.\u001B[39;49m\u001B[43mobj\u001B[49m\u001B[38;5;241;43m.\u001B[39;49m\u001B[43m_xs\u001B[49m\u001B[43m(\u001B[49m\u001B[43mlabel\u001B[49m\u001B[43m,\u001B[49m\u001B[43m \u001B[49m\u001B[43maxis\u001B[49m\u001B[38;5;241;43m=\u001B[39;49m\u001B[43maxis\u001B[49m\u001B[43m)\u001B[49m\n",
      "File \u001B[0;32m~/miniconda3/envs/basemap_stable/lib/python3.8/site-packages/pandas/core/generic.py:3537\u001B[0m, in \u001B[0;36mNDFrame.xs\u001B[0;34m(self, key, axis, level, drop_level)\u001B[0m\n\u001B[1;32m   3535\u001B[0m     loc, new_index \u001B[38;5;241m=\u001B[39m \u001B[38;5;28mself\u001B[39m\u001B[38;5;241m.\u001B[39mindex\u001B[38;5;241m.\u001B[39mget_loc_level(key, drop_level\u001B[38;5;241m=\u001B[39mdrop_level)\n\u001B[1;32m   3536\u001B[0m \u001B[38;5;28;01melse\u001B[39;00m:\n\u001B[0;32m-> 3537\u001B[0m     loc \u001B[38;5;241m=\u001B[39m \u001B[38;5;28;43mself\u001B[39;49m\u001B[38;5;241;43m.\u001B[39;49m\u001B[43mindex\u001B[49m\u001B[38;5;241;43m.\u001B[39;49m\u001B[43mget_loc\u001B[49m\u001B[43m(\u001B[49m\u001B[43mkey\u001B[49m\u001B[43m)\u001B[49m\n\u001B[1;32m   3539\u001B[0m     \u001B[38;5;28;01mif\u001B[39;00m \u001B[38;5;28misinstance\u001B[39m(loc, np\u001B[38;5;241m.\u001B[39mndarray):\n\u001B[1;32m   3540\u001B[0m         \u001B[38;5;28;01mif\u001B[39;00m loc\u001B[38;5;241m.\u001B[39mdtype \u001B[38;5;241m==\u001B[39m np\u001B[38;5;241m.\u001B[39mbool_:\n",
      "File \u001B[0;32m~/miniconda3/envs/basemap_stable/lib/python3.8/site-packages/pandas/core/indexes/range.py:352\u001B[0m, in \u001B[0;36mRangeIndex.get_loc\u001B[0;34m(self, key, method, tolerance)\u001B[0m\n\u001B[1;32m    350\u001B[0m         \u001B[38;5;28;01mreturn\u001B[39;00m \u001B[38;5;28mself\u001B[39m\u001B[38;5;241m.\u001B[39m_range\u001B[38;5;241m.\u001B[39mindex(new_key)\n\u001B[1;32m    351\u001B[0m     \u001B[38;5;28;01mexcept\u001B[39;00m \u001B[38;5;167;01mValueError\u001B[39;00m:\n\u001B[0;32m--> 352\u001B[0m         \u001B[38;5;28;01mraise\u001B[39;00m \u001B[38;5;167;01mKeyError\u001B[39;00m(key)\n\u001B[1;32m    353\u001B[0m \u001B[38;5;28;01mreturn\u001B[39;00m \u001B[38;5;28msuper\u001B[39m()\u001B[38;5;241m.\u001B[39mget_loc(key, method\u001B[38;5;241m=\u001B[39mmethod, tolerance\u001B[38;5;241m=\u001B[39mtolerance)\n",
      "\u001B[0;31mKeyError\u001B[0m: 5"
     ]
    },
    {
     "data": {
      "text/plain": "<Figure size 936x720 with 6 Axes>",
      "image/png": "[encoded data removed]"
     },
     "metadata": {
      "needs_background": "light"
     },
     "output_type": "display_data"
    }
   ],
   "source": [
    "month_ccf_sam(df_new)"
   ],
   "metadata": {
    "collapsed": false,
    "pycharm": {
     "name": "#%%\n"
    }
   }
  },
  {
   "cell_type": "markdown",
   "source": [
    "## SOI"
   ],
   "metadata": {
    "collapsed": false,
    "pycharm": {
     "name": "#%% md\n"
    }
   }
  },
  {
   "cell_type": "code",
   "execution_count": null,
   "outputs": [],
   "source": [
    "#-----Read in SOI as dataframe\n",
    "soi_df = pd.read_csv('/Users/fridaperez/Developer/repos/local_repo/AtmosIndex/SOI_index.csv')"
   ],
   "metadata": {
    "collapsed": false,
    "pycharm": {
     "name": "#%%\n"
    }
   }
  },
  {
   "cell_type": "code",
   "execution_count": null,
   "outputs": [],
   "source": [
    "\n",
    "# have to use pandas melt to go from wide to long data\n",
    "soi_melt = pd.melt(soi_df, id_vars='Years')\n",
    "soi_melt = soi_melt.rename(columns={\"variable\":\"Month\"})\n",
    "soi_melt['Dates'] = pd.to_datetime(soi_melt[['Years', 'Month']].assign(DAY=1))"
   ],
   "metadata": {
    "collapsed": false,
    "pycharm": {
     "name": "#%%\n"
    }
   }
  },
  {
   "cell_type": "code",
   "execution_count": null,
   "outputs": [],
   "source": [
    "soi_melt = soi_melt.drop([\"Years\", \"Month\"], axis=1)\n",
    "soi_melt['Dates'] = soi_melt['Dates'].astype('datetime64[ns]')"
   ],
   "metadata": {
    "collapsed": false,
    "pycharm": {
     "name": "#%%\n"
    }
   }
  },
  {
   "cell_type": "code",
   "execution_count": null,
   "outputs": [],
   "source": [
    "# Get dates  for only May -October\n",
    "soi_melt = soi_melt[(soi_melt.Dates.dt.month >= 5) & (soi_melt.Dates.dt.month <= 10)]\n",
    "# Here we set the index so that we can filter using iloc\n",
    "soi_melt = soi_melt.set_index('Dates')\n",
    "soi_melt = soi_melt.loc['2002-05-01':'2018-10-01']\n",
    "# ## Removing the first 5 rows/dates\n",
    "soi_melt  = soi_melt.iloc[5:]"
   ],
   "metadata": {
    "collapsed": false,
    "pycharm": {
     "name": "#%%\n"
    }
   }
  },
  {
   "cell_type": "code",
   "execution_count": null,
   "outputs": [],
   "source": [
    "# # we now want the 'Dates' as a normal column and not an index\n",
    "soi_melt = soi_melt.reset_index()\n",
    "soi_melt.rename(columns={'SOI': 'value'}, inplace=True)\n",
    "\n",
    "# # Combining the SAM and SIV Dates\n",
    "df_new_soi = soi_melt.copy()\n",
    "df_new_soi[\"SIV\"] = vol_df[\"SIV\"]\n"
   ],
   "metadata": {
    "collapsed": false,
    "pycharm": {
     "name": "#%%\n"
    }
   }
  },
  {
   "cell_type": "code",
   "execution_count": null,
   "outputs": [],
   "source": [
    "df_new_soi.reset_index()"
   ],
   "metadata": {
    "collapsed": false,
    "pycharm": {
     "name": "#%%\n"
    }
   }
  },
  {
   "cell_type": "code",
   "execution_count": null,
   "outputs": [],
   "source": [
    "df_new_soi.rename(columns = {'value':'SOI'}, inplace = True)"
   ],
   "metadata": {
    "collapsed": false,
    "pycharm": {
     "name": "#%%\n"
    }
   }
  },
  {
   "cell_type": "code",
   "execution_count": null,
   "outputs": [],
   "source": [
    "df_new_soi"
   ],
   "metadata": {
    "collapsed": false,
    "pycharm": {
     "name": "#%%\n"
    }
   }
  },
  {
   "cell_type": "code",
   "execution_count": null,
   "outputs": [],
   "source": [
    "import numpy as np\n",
    "import pandas as pd\n",
    "import matplotlib.pyplot as plt\n",
    "#import rpy2.robjects as robjects\n",
    "import statsmodels.api as sm\n",
    "from statsmodels.formula.api import ols\n",
    "\n",
    "from astsadata import *\n",
    "\n",
    "\n",
    "def month_ccf_soi(df):\n",
    "    x = [5, 6, 7, 8, 9, 10]\n",
    "    df_selmons = []\n",
    "    df_vol_selmons = []\n",
    "    df_soi_selmons = []\n",
    "    cdfs = []\n",
    "    for i in x:\n",
    "        df_selmon = df[df['Dates'].dt.month.isin([i])]\n",
    "        ccf_df = statsmodels.tsa.stattools.ccf(df_selmon.SOI, df_selmon.SIV, adjusted=False)\n",
    "        ccf_df = pd.DataFrame(ccf_df, columns=['CCF'])\n",
    "        df_selmons.append(df_selmon)\n",
    "        print(ccf_df)\n",
    "        cdfs.append(ccf_df)\n",
    "        ## Separate the two columns\n",
    "        # SIV #\n",
    "        df_vol_selmon = df_selmon[['Dates', 'SIV']]\n",
    "        df_vol_selmon['Dates'] = df_vol_selmon['Dates'].dt.to_period('M')\n",
    "        df_vol_selmon = df_vol_selmon.set_index(['Dates'])\n",
    "        df_vol_selmons.append(df_vol_selmon)\n",
    "        # SOI #\n",
    "        df_soi_selmon = df_selmon[['Dates', 'SOI']]\n",
    "        df_soi_selmon['Dates'] = df_soi_selmon['Dates'].dt.to_period('M')\n",
    "        df_soi_selmon = df_soi_selmon.set_index(['Dates'])\n",
    "        df_soi_selmons.append(df_soi_selmon)\n",
    "        #return cdfs\n",
    "    # PLOT #\n",
    "    for x in range(6):\n",
    "\n",
    "        fig, axes = plt.subplots(nrows=2, ncols=3, figsize=(13, 10))\n",
    "        lag = 0\n",
    "        for i in range(6):\n",
    "            row = 0 if i <= 2 else 1\n",
    "            col = i if i <= 2 else i - 3\n",
    "            lowess = sm.nonparametric.lowess(df_vol_selmons[x].iloc[:, 0], df_soi_selmons[x].iloc[:, 0].shift(lag))\n",
    "            axes[row, col].scatter(df_soi_selmons[x].shift(lag), df_vol_selmons[x])\n",
    "            axes[row, col].set_title(f\"SOI (t-{lag})\")\n",
    "            axes[row, col].set_ylabel(\"SIV (t)\")\n",
    "            axes[row, col].plot(lowess[:, 0], lowess[:, 1], color=\"red\")\n",
    "            axes[row, col].text(s=round(cdfs[x].loc[i][0], 3), x=.95, y=0.05, transform=axes[row, col].transAxes,\n",
    "                                ha='right')  #ha, horizontal line\n",
    "            lag += 1\n",
    "        fig.tight_layout()\n",
    "        plt.savefig(dir + str(x))\n",
    "\n"
   ],
   "metadata": {
    "collapsed": false,
    "pycharm": {
     "name": "#%%\n"
    }
   }
  },
  {
   "cell_type": "code",
   "execution_count": null,
   "outputs": [],
   "source": [
    "month_ccf_soi(df_new_soi)"
   ],
   "metadata": {
    "collapsed": false,
    "pycharm": {
     "name": "#%%\n"
    }
   }
  },
  {
   "cell_type": "markdown",
   "source": [
    "## ASL"
   ],
   "metadata": {
    "collapsed": false
   }
  },
  {
   "cell_type": "code",
   "execution_count": null,
   "outputs": [],
   "source": [
    "#-----Read in ASL as dataframe\n",
    "asl_df = pd.read_csv('/Users/fridaperez/Developer/repos/local_repo/AtmosIndex/ASL_index.csv')"
   ],
   "metadata": {
    "collapsed": false,
    "pycharm": {
     "name": "#%%\n"
    }
   }
  },
  {
   "cell_type": "code",
   "execution_count": null,
   "outputs": [],
   "source": [
    "asl_df = asl_df.drop([\"Lon\", \"Lat\",\"SectorPres\", \"RelCenPres\"], axis=1)\n",
    "asl_df['Dates'] = asl_df['Dates'].astype('datetime64[ns]')\n",
    "#print(asl_df)"
   ],
   "metadata": {
    "collapsed": false,
    "pycharm": {
     "name": "#%%\n"
    }
   }
  },
  {
   "cell_type": "code",
   "execution_count": null,
   "outputs": [],
   "source": [
    "# Get dates  for only May -October\n",
    "asl_df = asl_df[(asl_df.Dates.dt.month >= 5) & (asl_df.Dates.dt.month <= 10)]\n",
    "# Here we set the index so that we can filter using iloc\n",
    "asl_df = asl_df.set_index('Dates')\n",
    "asl_df = asl_df.loc['2002-05-01':'2018-10-01']\n",
    "# ## Removing the first 5 rows/dates\n",
    "#asl_df  = asl_df.iloc[5:]\n",
    "print(asl_df)"
   ],
   "metadata": {
    "collapsed": false,
    "pycharm": {
     "name": "#%%\n"
    }
   }
  },
  {
   "cell_type": "code",
   "execution_count": null,
   "outputs": [],
   "source": [
    "# # we now want the 'Dates' as a normal column and not an index\n",
    "asl_df = asl_df.reset_index()\n",
    "print(asl_df)"
   ],
   "metadata": {
    "collapsed": false,
    "pycharm": {
     "name": "#%%\n"
    }
   }
  },
  {
   "cell_type": "code",
   "execution_count": null,
   "outputs": [],
   "source": [
    "# # Combining the SAM and SIV Dates\n",
    "df_new_asl = asl_df.copy()\n",
    "df_new_asl[\"SIV\"] = vol_df[\"SIV\"]\n",
    "print(df_new_asl)"
   ],
   "metadata": {
    "collapsed": false,
    "pycharm": {
     "name": "#%%\n"
    }
   }
  },
  {
   "cell_type": "code",
   "execution_count": null,
   "outputs": [],
   "source": [
    "import numpy as np\n",
    "import pandas as pd\n",
    "import matplotlib.pyplot as plt\n",
    "#import rpy2.robjects as robjects\n",
    "import statsmodels.api as sm\n",
    "from statsmodels.formula.api import ols\n",
    "\n",
    "from astsadata import *\n",
    "\n",
    "\n",
    "def month_ccf_asl(df):\n",
    "    x = [5, 6, 7, 8, 9, 10]\n",
    "    df_selmons = []\n",
    "    df_vol_selmons = []\n",
    "    df_asl_selmons = []\n",
    "    cdfs = []\n",
    "    for i in x:\n",
    "        df_selmon = df[df['Dates'].dt.month.isin([i])]\n",
    "        ccf_df = statsmodels.tsa.stattools.ccf(df_selmon.ActCenPres, df_selmon.SIV, adjusted=False)\n",
    "        ccf_df = pd.DataFrame(ccf_df, columns=['CCF'])\n",
    "        df_selmons.append(df_selmon)\n",
    "        print(ccf_df)\n",
    "        cdfs.append(ccf_df)\n",
    "        ## Separate the two columns\n",
    "        # SIV #\n",
    "        df_vol_selmon = df_selmon[['Dates', 'SIV']]\n",
    "        df_vol_selmon['Dates'] = df_vol_selmon['Dates'].dt.to_period('M')\n",
    "        df_vol_selmon = df_vol_selmon.set_index(['Dates'])\n",
    "        df_vol_selmons.append(df_vol_selmon)\n",
    "        # SOI #\n",
    "        df_asl_selmon = df_selmon[['Dates', 'ActCenPres']]\n",
    "        df_asl_selmon['Dates'] = df_asl_selmon['Dates'].dt.to_period('M')\n",
    "        df_asl_selmon = df_asl_selmon.set_index(['Dates'])\n",
    "        df_asl_selmons.append(df_asl_selmon)\n",
    "        #return cdfs\n",
    "    # PLOT #\n",
    "    for x in range(6):\n",
    "\n",
    "        fig, axes = plt.subplots(nrows=2, ncols=3, figsize=(13, 10))\n",
    "        lag = 0\n",
    "        for i in range(6):\n",
    "            row = 0 if i <= 2 else 1\n",
    "            col = i if i <= 2 else i - 3\n",
    "            lowess = sm.nonparametric.lowess(df_vol_selmons[x].iloc[:, 0], df_asl_selmons[x].iloc[:, 0].shift(lag))\n",
    "            axes[row, col].scatter(df_asl_selmons[x].shift(lag), df_vol_selmons[x])\n",
    "            axes[row, col].set_title(f\"ASL (t-{lag})\")\n",
    "            axes[row, col].set_ylabel(\"SIV (t)\")\n",
    "            axes[row, col].plot(lowess[:, 0], lowess[:, 1], color=\"red\")\n",
    "            axes[row, col].text(s=round(cdfs[x].loc[i][0], 3), x=.95, y=0.05, transform=axes[row, col].transAxes,\n",
    "                                ha='right')  #ha, horizontal line\n",
    "            lag += 1\n",
    "        fig.tight_layout()\n",
    "        plt.savefig(dir + str(x))\n"
   ],
   "metadata": {
    "collapsed": false,
    "pycharm": {
     "name": "#%%\n"
    }
   }
  },
  {
   "cell_type": "code",
   "execution_count": null,
   "outputs": [],
   "source": [
    "month_ccf_asl(df_new_asl)"
   ],
   "metadata": {
    "collapsed": false,
    "pycharm": {
     "name": "#%%\n"
    }
   }
  },
  {
   "cell_type": "code",
   "execution_count": null,
   "outputs": [],
   "source": [],
   "metadata": {
    "collapsed": false,
    "pycharm": {
     "name": "#%%\n"
    }
   }
  }
 ],
 "metadata": {
  "kernelspec": {
   "display_name": "Python 3",
   "language": "python",
   "name": "python3"
  },
  "language_info": {
   "codemirror_mode": {
    "name": "ipython",
    "version": 2
   },
   "file_extension": ".py",
   "mimetype": "text/x-python",
   "name": "python",
   "nbconvert_exporter": "python",
   "pygments_lexer": "ipython2",
   "version": "2.7.6"
  }
 },
 "nbformat": 4,
 "nbformat_minor": 0
}