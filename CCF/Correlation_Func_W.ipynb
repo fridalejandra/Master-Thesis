{
 "cells": [
  {
   "cell_type": "code",
   "execution_count": 1,
   "metadata": {
    "collapsed": true
   },
   "outputs": [],
   "source": [
    "#--------Import packages\n",
    "#--------For Netcdf manipulation\n",
    "import statsmodels.tsa.stattools\n",
    "import xarray as xr\n",
    "from netCDF4 import Dataset\n",
    "import netCDF4 as nc\n",
    "\n",
    "#--------For array manipulation\n",
    "import numpy as np\n",
    "import pandas as pd\n",
    "from pandas import DataFrame\n",
    "from pandas import Grouper\n",
    "\n",
    "#--------For plotting\n",
    "# import cartopy.crs as ccrs\n",
    "# import cartopy.feature as cfeature\n",
    "# import matplotlib.pylab as plt\n",
    "from mpl_toolkits.basemap import Basemap # plots maps\n",
    "from matplotlib.cbook import dedent\n",
    "#import cmocean\n",
    "import seaborn as sns"
   ]
  },
  {
   "cell_type": "markdown",
   "source": [
    " # Weddell Regions"
   ],
   "metadata": {
    "collapsed": false,
    "pycharm": {
     "name": "#%% md\n"
    }
   }
  },
  {
   "cell_type": "markdown",
   "source": [],
   "metadata": {
    "collapsed": false
   }
  },
  {
   "cell_type": "markdown",
   "source": [],
   "metadata": {
    "collapsed": false
   }
  },
  {
   "cell_type": "markdown",
   "source": [
    "## SAM"
   ],
   "metadata": {
    "collapsed": false,
    "pycharm": {
     "name": "#%% md\n"
    }
   }
  },
  {
   "cell_type": "code",
   "execution_count": 2,
   "outputs": [],
   "source": [
    "#-----Read in volume dataset as dataframe\n",
    "vol_df = pd.read_csv('/Users/fridaperez/Developer/repos/local_repo/CCF/vol_mean_w.csv')\n",
    "#-----Read in SAM as dataframe\n",
    "sam_df = pd.read_csv('/Users/fridaperez/Developer/repos/local_repo/AtmosIndex/sam_long.csv',parse_dates=['Dates'])\n",
    "#-----Read in dates  as dataframe\n",
    "dates_df = pd.read_csv('/Users/fridaperez/Developer/repos/local_repo/CCF/dates_df.csv')"
   ],
   "metadata": {
    "collapsed": false,
    "pycharm": {
     "name": "#%%\n"
    }
   }
  },
  {
   "cell_type": "code",
   "execution_count": 3,
   "outputs": [],
   "source": [
    "dates_df['Dates'] = dates_df['Dates'].astype('datetime64[ns]')\n",
    "sam_df = sam_df.drop([\"Years\", \"Months\"], axis=1)\n",
    "\n",
    "# Get dates  for only May -October\n",
    "sam_df = sam_df[(sam_df.Dates.dt.month >= 5) & (sam_df.Dates.dt.month <= 10)]\n",
    "# Here we set the index so that we can filter using iloc\n",
    "sam_df = sam_df.set_index('Dates')\n",
    "sam_df = sam_df.loc['2002-05-01':'2018-10-01']\n",
    "## Removing the first 5 rows/dates\n",
    "sam_df  = sam_df.iloc[5:]"
   ],
   "metadata": {
    "collapsed": false,
    "pycharm": {
     "name": "#%%\n"
    }
   }
  },
  {
   "cell_type": "code",
   "execution_count": 4,
   "outputs": [],
   "source": [
    "# we now want the 'Dates' as a normal column and not an index\n",
    "sam_df = sam_df.reset_index()\n",
    "# Combining the SAM and SIV Dates\n",
    "df_new = sam_df.copy()\n",
    "df_new[\"SIV\"] = vol_df[\"SIV\"]"
   ],
   "metadata": {
    "collapsed": false,
    "pycharm": {
     "name": "#%%\n"
    }
   }
  },
  {
   "cell_type": "code",
   "execution_count": 5,
   "outputs": [
    {
     "name": "stdout",
     "output_type": "stream",
     "text": [
      "<class 'pandas.core.frame.DataFrame'>\n",
      "RangeIndex: 97 entries, 0 to 96\n",
      "Data columns (total 3 columns):\n",
      " #   Column  Non-Null Count  Dtype         \n",
      "---  ------  --------------  -----         \n",
      " 0   Dates   97 non-null     datetime64[ns]\n",
      " 1   SAM     97 non-null     float64       \n",
      " 2   SIV     97 non-null     float64       \n",
      "dtypes: datetime64[ns](1), float64(2)\n",
      "memory usage: 2.4 KB\n"
     ]
    }
   ],
   "source": [
    "df_new.info()"
   ],
   "metadata": {
    "collapsed": false,
    "pycharm": {
     "name": "#%%\n"
    }
   }
  },
  {
   "cell_type": "markdown",
   "source": [
    "## ASL"
   ],
   "metadata": {
    "collapsed": false,
    "pycharm": {
     "name": "#%% md\n"
    }
   }
  },
  {
   "cell_type": "code",
   "execution_count": 6,
   "outputs": [],
   "source": [
    "#-----Read in ASL as dataframe\n",
    "asl_df = pd.read_csv('/Users/fridaperez/Developer/repos/local_repo/AtmosIndex/ASL_index.csv')"
   ],
   "metadata": {
    "collapsed": false,
    "pycharm": {
     "name": "#%%\n"
    }
   }
  },
  {
   "cell_type": "code",
   "execution_count": 7,
   "outputs": [],
   "source": [
    "asl_df = asl_df.drop([\"Lon\", \"Lat\",\"SectorPres\", \"RelCenPres\"], axis=1)\n",
    "asl_df['Dates'] = asl_df['Dates'].astype('datetime64[ns]')\n",
    "#print(asl_df)"
   ],
   "metadata": {
    "collapsed": false,
    "pycharm": {
     "name": "#%%\n"
    }
   }
  },
  {
   "cell_type": "code",
   "execution_count": 8,
   "outputs": [],
   "source": [
    "# Get dates  for only May -October\n",
    "asl_df = asl_df[(asl_df.Dates.dt.month >= 5) & (asl_df.Dates.dt.month <= 10)]\n",
    "# Here we set the index so that we can filter using iloc\n",
    "asl_df = asl_df.set_index('Dates')\n",
    "asl_df = asl_df.loc['2002-05-01':'2018-10-01']\n",
    "# ## Removing the first 5 rows/dates\n",
    "#asl_df  = asl_df.iloc[5:]"
   ],
   "metadata": {
    "collapsed": false,
    "pycharm": {
     "name": "#%%\n"
    }
   }
  },
  {
   "cell_type": "code",
   "execution_count": 9,
   "outputs": [],
   "source": [
    "# # we now want the 'Dates' as a normal column and not an index\n",
    "asl_df = asl_df.reset_index()"
   ],
   "metadata": {
    "collapsed": false,
    "pycharm": {
     "name": "#%%\n"
    }
   }
  },
  {
   "cell_type": "code",
   "execution_count": 10,
   "outputs": [],
   "source": [
    "# # Combining the SAM and SIV Dates\n",
    "df_new_asl = asl_df.copy()\n",
    "df_new_asl[\"SIV\"] = vol_df[\"SIV\"]"
   ],
   "metadata": {
    "collapsed": false,
    "pycharm": {
     "name": "#%%\n"
    }
   }
  },
  {
   "cell_type": "markdown",
   "source": [
    "## SOI"
   ],
   "metadata": {
    "collapsed": false,
    "pycharm": {
     "name": "#%% md\n"
    }
   }
  },
  {
   "cell_type": "code",
   "execution_count": 11,
   "outputs": [],
   "source": [
    "#-----Read in SOI as dataframe\n",
    "soi_df = pd.read_csv('/Users/fridaperez/Developer/repos/local_repo/AtmosIndex/SOI_index.csv')"
   ],
   "metadata": {
    "collapsed": false,
    "pycharm": {
     "name": "#%%\n"
    }
   }
  },
  {
   "cell_type": "code",
   "execution_count": 12,
   "outputs": [],
   "source": [
    "# have to use pandas melt to go from wide to long data\n",
    "soi_melt = pd.melt(soi_df, id_vars='Years')\n",
    "soi_melt = soi_melt.rename(columns={\"variable\":\"Month\"})\n",
    "soi_melt['Dates'] = pd.to_datetime(soi_melt[['Years', 'Month']].assign(DAY=1))"
   ],
   "metadata": {
    "collapsed": false,
    "pycharm": {
     "name": "#%%\n"
    }
   }
  },
  {
   "cell_type": "code",
   "execution_count": 13,
   "outputs": [],
   "source": [
    "soi_melt = soi_melt.drop([\"Years\", \"Month\"], axis=1)\n",
    "soi_melt['Dates'] = soi_melt['Dates'].astype('datetime64[ns]')"
   ],
   "metadata": {
    "collapsed": false,
    "pycharm": {
     "name": "#%%\n"
    }
   }
  },
  {
   "cell_type": "code",
   "execution_count": 14,
   "outputs": [],
   "source": [
    "# Get dates  for only May -October\n",
    "soi_melt = soi_melt[(soi_melt.Dates.dt.month >= 5) & (soi_melt.Dates.dt.month <= 10)]\n",
    "# Here we set the index so that we can filter using iloc\n",
    "soi_melt = soi_melt.set_index('Dates')\n",
    "soi_melt = soi_melt.loc['2002-05-01':'2018-10-01']\n",
    "# ## Removing the first 5 rows/dates\n",
    "soi_melt  = soi_melt.iloc[5:]"
   ],
   "metadata": {
    "collapsed": false,
    "pycharm": {
     "name": "#%%\n"
    }
   }
  },
  {
   "cell_type": "code",
   "execution_count": 15,
   "outputs": [],
   "source": [
    "# # we now want the 'Dates' as a normal column and not an index\n",
    "soi_melt = soi_melt.reset_index()\n",
    "soi_melt.rename(columns={'SOI': 'value'}, inplace=True)\n",
    "\n",
    "# # Combining the SAM and SIV Dates\n",
    "df_new_soi = soi_melt.copy()\n",
    "df_new_soi[\"SIV\"] = vol_df[\"SIV\"]"
   ],
   "metadata": {
    "collapsed": false,
    "pycharm": {
     "name": "#%%\n"
    }
   }
  },
  {
   "cell_type": "code",
   "execution_count": 16,
   "outputs": [],
   "source": [
    "df_new_soi.reset_index()\n",
    "df_new_soi.rename(columns = {'value':'SOI'}, inplace = True)"
   ],
   "metadata": {
    "collapsed": false,
    "pycharm": {
     "name": "#%%\n"
    }
   }
  },
  {
   "cell_type": "code",
   "execution_count": 17,
   "outputs": [],
   "source": [
    "from pandas.api.types import CategoricalDtype\n",
    "import pandas as pd\n",
    "import numpy as np\n",
    "import seaborn as sns\n",
    "import matplotlib.pyplot as plt\n",
    "def month_ccf_sam(df1,df2,df3):\n",
    "    x = [5,6,7,8,9,10]\n",
    "    ind0 = 0\n",
    "    result1 = []\n",
    "    result2 = []\n",
    "    result3 = []\n",
    "    for i in x:\n",
    "        #SAM\n",
    "        df_selmon = df1[df1['Dates'].dt.month.isin([i])]\n",
    "        cor_df = df_selmon['SAM'].corr(df_selmon['SIV'])\n",
    "        result1.append(cor_df)\n",
    "        #ASL\n",
    "        df_selmon2 = df2[df2['Dates'].dt.month.isin([i])]\n",
    "        cor_df2 = df_selmon2['ActCenPres'].corr(df_selmon2['SIV'])\n",
    "       # print(cor_df2)\n",
    "        result2.append(cor_df2)\n",
    "        #SOI\n",
    "        df_selmon3 = df3[df3['Dates'].dt.month.isin([i])]\n",
    "        cor_df3 = df_selmon3['SOI'].corr(df_selmon3['SIV'])\n",
    "       # print(cor_df3)\n",
    "        result3.append(cor_df3)\n",
    "\n",
    "    result1 = pd.DataFrame(result1, columns=['SAM'])\n",
    "   # print(result1)\n",
    "    result2 = pd.DataFrame(result2, columns=['ASL'])\n",
    "    #print(result2)\n",
    "    result3 = pd.DataFrame(result3, columns=['SOI'])\n",
    "    #print(result3)\n",
    "    months = ['5','6','7','8','9','10']\n",
    "    #pd.to_datetime(months,unit='%B')\n",
    "    df_months = pd.DataFrame(months, columns=['Months']).astype('int32')\n",
    "    print((df_months.info()))\n",
    "    bigdata = pd.concat([df_months, result1,result2,result3],axis=1)\n",
    "    bigdata = pd.melt(bigdata, id_vars=['Months'], var_name='Index', value_name='corr')\n",
    "    data = bigdata.pivot(\"Index\", \"Months\", \"corr\")\n",
    "    sns.heatmap(data,annot=True,linewidths=.5)\n",
    "    plt.savefig('/Users/fridaperez/Developer/repos/local_repo/pub_plots/Weddell/heatmap.png',dpi=300)\n",
    "    print(data)"
   ],
   "metadata": {
    "collapsed": false,
    "pycharm": {
     "name": "#%%\n"
    }
   }
  },
  {
   "cell_type": "code",
   "execution_count": 18,
   "outputs": [
    {
     "name": "stdout",
     "output_type": "stream",
     "text": [
      "<class 'pandas.core.frame.DataFrame'>\n",
      "RangeIndex: 6 entries, 0 to 5\n",
      "Data columns (total 1 columns):\n",
      " #   Column  Non-Null Count  Dtype\n",
      "---  ------  --------------  -----\n",
      " 0   Months  6 non-null      int32\n",
      "dtypes: int32(1)\n",
      "memory usage: 152.0 bytes\n",
      "None\n",
      "Months        5         6         7         8         9         10\n",
      "Index                                                             \n",
      "ASL     0.255673 -0.173399 -0.089275 -0.204487  0.080740  0.015380\n",
      "SAM     0.100316 -0.018152 -0.177879  0.157832 -0.115322 -0.050652\n",
      "SOI     0.187395  0.118750 -0.384663  0.582903 -0.042753 -0.208261\n"
     ]
    },
    {
     "data": {
      "text/plain": "<Figure size 432x288 with 2 Axes>",
      "image/png": "[encoded data removed]"
     },
     "metadata": {
      "needs_background": "light"
     },
     "output_type": "display_data"
    }
   ],
   "source": [
    "month_ccf_sam(df_new,df_new_asl,df_new_soi)"
   ],
   "metadata": {
    "collapsed": false,
    "pycharm": {
     "name": "#%%\n"
    }
   }
  },
  {
   "cell_type": "code",
   "execution_count": 18,
   "outputs": [],
   "source": [],
   "metadata": {
    "collapsed": false,
    "pycharm": {
     "name": "#%%\n"
    }
   }
  }
 ],
 "metadata": {
  "kernelspec": {
   "display_name": "Python 3",
   "language": "python",
   "name": "python3"
  },
  "language_info": {
   "codemirror_mode": {
    "name": "ipython",
    "version": 2
   },
   "file_extension": ".py",
   "mimetype": "text/x-python",
   "name": "python",
   "nbconvert_exporter": "python",
   "pygments_lexer": "ipython2",
   "version": "2.7.6"
  }
 },
 "nbformat": 4,
 "nbformat_minor": 0
}