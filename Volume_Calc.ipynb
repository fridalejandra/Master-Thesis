{
 "cells": [
  {
   "cell_type": "code",
   "execution_count": 1,
   "metadata": {
    "collapsed": true
   },
   "outputs": [],
   "source": [
    "import warnings; warnings.filterwarnings(action='ignore')\n",
    "%matplotlib inline\n",
    "#for Netcdf manipulation\n",
    "import xarray as xr\n",
    "from netCDF4 import Dataset\n",
    "import netCDF4 as nc\n",
    "\n",
    "#for array manipulation\n",
    "import numpy as np\n",
    "import pandas as pd\n",
    "from pandas import DataFrame\n",
    "from pandas import Grouper"
   ]
  },
  {
   "cell_type": "code",
   "execution_count": 2,
   "outputs": [],
   "source": [
    "#Reading files with xarray\n",
    "sia_file = '/Users/fridaperez/Developer/repos/local_repo/Area_SH_Filled-316x332.nc'  # prepping path for xr\n",
    "sit_file = '/Users/fridaperez/Developer/repos/local_repo/SIT_25000/SIT_SH_Filled-316x332.nc'\n",
    "#sitlatlon= '/Users/fridaperez/Developer/repos/volume-thickness/SIT_files/SIT_CYS_25k_interp3.nc'\n",
    "\n",
    "data_sia = xr.open_dataset(sia_file) # opening sit for xarray\n",
    "data_sit= xr.open_dataset(sit_file)\n",
    "#datall = xr.open_dataset(sitlatlon)"
   ],
   "metadata": {
    "collapsed": false,
    "pycharm": {
     "name": "#%%\n"
    }
   }
  },
  {
   "cell_type": "code",
   "execution_count": 4,
   "outputs": [
    {
     "data": {
      "text/plain": "<xarray.Dataset>\nDimensions:    (time: 97, xgrid: 316, ygrid: 332)\nCoordinates:\n    longitude  (ygrid, xgrid) float64 ...\n    latitude   (ygrid, xgrid) float64 ...\n  * ygrid      (ygrid) float32 4.338e+06 4.312e+06 ... -3.912e+06 -3.938e+06\n  * xgrid      (xgrid) float32 -3.938e+06 -3.912e+06 ... 3.912e+06 3.938e+06\n  * time       (time) datetime64[ns] 2002-10-15 2003-05-15 ... 2018-10-15\nData variables:\n    SIT        (time, ygrid, xgrid) float64 ...\nAttributes:\n    history:  Thu May 19 22:02:49 2022: ncpdq -a time,ygrid,xgrid SIT_SH_316x...\n    NCO:      netCDF Operators version 4.9.6 (Homepage = http://nco.sf.net, C...",
      "text/html": "<div><svg style=\"position: absolute; width: 0; height: 0; overflow: hidden\">\n<defs>\n<symbol id=\"icon-database\" viewBox=\"0 0 32 32\">\n<path d=\"M16 0c-8.837 0-16 2.239-16 5v4c0 2.761 7.163 5 16 5s16-2.239 16-5v-4c0-2.761-7.163-5-16-5z\"></path>\n<path d=\"M16 17c-8.837 0-16-2.239-16-5v6c0 2.761 7.163 5 16 5s16-2.239 16-5v-6c0 2.761-7.163 5-16 5z\"></path>\n<path d=\"M16 26c-8.837 0-16-2.239-16-5v6c0 2.761 7.163 5 16 5s16-2.239 16-5v-6c0 2.761-7.163 5-16 5z\"></path>\n</symbol>\n<symbol id=\"icon-file-text2\" viewBox=\"0 0 32 32\">\n<path d=\"M28.681 7.159c-0.694-0.947-1.662-2.053-2.724-3.116s-2.169-2.030-3.116-2.724c-1.612-1.182-2.393-1.319-2.841-1.319h-15.5c-1.378 0-2.5 1.121-2.5 2.5v27c0 1.378 1.122 2.5 2.5 2.5h23c1.378 0 2.5-1.122 2.5-2.5v-19.5c0-0.448-0.137-1.23-1.319-2.841zM24.543 5.457c0.959 0.959 1.712 1.825 2.268 2.543h-4.811v-4.811c0.718 0.556 1.584 1.309 2.543 2.268zM28 29.5c0 0.271-0.229 0.5-0.5 0.5h-23c-0.271 0-0.5-0.229-0.5-0.5v-27c0-0.271 0.229-0.5 0.5-0.5 0 0 15.499-0 15.5 0v7c0 0.552 0.448 1 1 1h7v19.5z\"></path>\n<path d=\"M23 26h-14c-0.552 0-1-0.448-1-1s0.448-1 1-1h14c0.552 0 1 0.448 1 1s-0.448 1-1 1z\"></path>\n<path d=\"M23 22h-14c-0.552 0-1-0.448-1-1s0.448-1 1-1h14c0.552 0 1 0.448 1 1s-0.448 1-1 1z\"></path>\n<path d=\"M23 18h-14c-0.552 0-1-0.448-1-1s0.448-1 1-1h14c0.552 0 1 0.448 1 1s-0.448 1-1 1z\"></path>\n</symbol>\n</defs>\n</svg>\n<style>/* CSS stylesheet for displaying xarray objects in jupyterlab.\n *\n */\n\n:root {\n  --xr-font-color0: var(--jp-content-font-color0, rgba(0, 0, 0, 1));\n  --xr-font-color2: var(--jp-content-font-color2, rgba(0, 0, 0, 0.54));\n  --xr-font-color3: var(--jp-content-font-color3, rgba(0, 0, 0, 0.38));\n  --xr-border-color: var(--jp-border-color2, #e0e0e0);\n  --xr-disabled-color: var(--jp-layout-color3, #bdbdbd);\n  --xr-background-color: var(--jp-layout-color0, white);\n  --xr-background-color-row-even: var(--jp-layout-color1, white);\n  --xr-background-color-row-odd: var(--jp-layout-color2, #eeeeee);\n}\n\nhtml[theme=dark],\nbody.vscode-dark {\n  --xr-font-color0: rgba(255, 255, 255, 1);\n  --xr-font-color2: rgba(255, 255, 255, 0.54);\n  --xr-font-color3: rgba(255, 255, 255, 0.38);\n  --xr-border-color: #1F1F1F;\n  --xr-disabled-color: #515151;\n  --xr-background-color: #111111;\n  --xr-background-color-row-even: #111111;\n  --xr-background-color-row-odd: #313131;\n}\n\n.xr-wrap {\n  display: block;\n  min-width: 300px;\n  max-width: 700px;\n}\n\n.xr-text-repr-fallback {\n  /* fallback to plain text repr when CSS is not injected (untrusted notebook) */\n  display: none;\n}\n\n.xr-header {\n  padding-top: 6px;\n  padding-bottom: 6px;\n  margin-bottom: 4px;\n  border-bottom: solid 1px var(--xr-border-color);\n}\n\n.xr-header > div,\n.xr-header > ul {\n  display: inline;\n  margin-top: 0;\n  margin-bottom: 0;\n}\n\n.xr-obj-type,\n.xr-array-name {\n  margin-left: 2px;\n  margin-right: 10px;\n}\n\n.xr-obj-type {\n  color: var(--xr-font-color2);\n}\n\n.xr-sections {\n  padding-left: 0 !important;\n  display: grid;\n  grid-template-columns: 150px auto auto 1fr 20px 20px;\n}\n\n.xr-section-item {\n  display: contents;\n}\n\n.xr-section-item input {\n  display: none;\n}\n\n.xr-section-item input + label {\n  color: var(--xr-disabled-color);\n}\n\n.xr-section-item input:enabled + label {\n  cursor: pointer;\n  color: var(--xr-font-color2);\n}\n\n.xr-section-item input:enabled + label:hover {\n  color: var(--xr-font-color0);\n}\n\n.xr-section-summary {\n  grid-column: 1;\n  color: var(--xr-font-color2);\n  font-weight: 500;\n}\n\n.xr-section-summary > span {\n  display: inline-block;\n  padding-left: 0.5em;\n}\n\n.xr-section-summary-in:disabled + label {\n  color: var(--xr-font-color2);\n}\n\n.xr-section-summary-in + label:before {\n  display: inline-block;\n  content: '►';\n  font-size: 11px;\n  width: 15px;\n  text-align: center;\n}\n\n.xr-section-summary-in:disabled + label:before {\n  color: var(--xr-disabled-color);\n}\n\n.xr-section-summary-in:checked + label:before {\n  content: '▼';\n}\n\n.xr-section-summary-in:checked + label > span {\n  display: none;\n}\n\n.xr-section-summary,\n.xr-section-inline-details {\n  padding-top: 4px;\n  padding-bottom: 4px;\n}\n\n.xr-section-inline-details {\n  grid-column: 2 / -1;\n}\n\n.xr-section-details {\n  display: none;\n  grid-column: 1 / -1;\n  margin-bottom: 5px;\n}\n\n.xr-section-summary-in:checked ~ .xr-section-details {\n  display: contents;\n}\n\n.xr-array-wrap {\n  grid-column: 1 / -1;\n  display: grid;\n  grid-template-columns: 20px auto;\n}\n\n.xr-array-wrap > label {\n  grid-column: 1;\n  vertical-align: top;\n}\n\n.xr-preview {\n  color: var(--xr-font-color3);\n}\n\n.xr-array-preview,\n.xr-array-data {\n  padding: 0 5px !important;\n  grid-column: 2;\n}\n\n.xr-array-data,\n.xr-array-in:checked ~ .xr-array-preview {\n  display: none;\n}\n\n.xr-array-in:checked ~ .xr-array-data,\n.xr-array-preview {\n  display: inline-block;\n}\n\n.xr-dim-list {\n  display: inline-block !important;\n  list-style: none;\n  padding: 0 !important;\n  margin: 0;\n}\n\n.xr-dim-list li {\n  display: inline-block;\n  padding: 0;\n  margin: 0;\n}\n\n.xr-dim-list:before {\n  content: '(';\n}\n\n.xr-dim-list:after {\n  content: ')';\n}\n\n.xr-dim-list li:not(:last-child):after {\n  content: ',';\n  padding-right: 5px;\n}\n\n.xr-has-index {\n  font-weight: bold;\n}\n\n.xr-var-list,\n.xr-var-item {\n  display: contents;\n}\n\n.xr-var-item > div,\n.xr-var-item label,\n.xr-var-item > .xr-var-name span {\n  background-color: var(--xr-background-color-row-even);\n  margin-bottom: 0;\n}\n\n.xr-var-item > .xr-var-name:hover span {\n  padding-right: 5px;\n}\n\n.xr-var-list > li:nth-child(odd) > div,\n.xr-var-list > li:nth-child(odd) > label,\n.xr-var-list > li:nth-child(odd) > .xr-var-name span {\n  background-color: var(--xr-background-color-row-odd);\n}\n\n.xr-var-name {\n  grid-column: 1;\n}\n\n.xr-var-dims {\n  grid-column: 2;\n}\n\n.xr-var-dtype {\n  grid-column: 3;\n  text-align: right;\n  color: var(--xr-font-color2);\n}\n\n.xr-var-preview {\n  grid-column: 4;\n}\n\n.xr-var-name,\n.xr-var-dims,\n.xr-var-dtype,\n.xr-preview,\n.xr-attrs dt {\n  white-space: nowrap;\n  overflow: hidden;\n  text-overflow: ellipsis;\n  padding-right: 10px;\n}\n\n.xr-var-name:hover,\n.xr-var-dims:hover,\n.xr-var-dtype:hover,\n.xr-attrs dt:hover {\n  overflow: visible;\n  width: auto;\n  z-index: 1;\n}\n\n.xr-var-attrs,\n.xr-var-data {\n  display: none;\n  background-color: var(--xr-background-color) !important;\n  padding-bottom: 5px !important;\n}\n\n.xr-var-attrs-in:checked ~ .xr-var-attrs,\n.xr-var-data-in:checked ~ .xr-var-data {\n  display: block;\n}\n\n.xr-var-data > table {\n  float: right;\n}\n\n.xr-var-name span,\n.xr-var-data,\n.xr-attrs {\n  padding-left: 25px !important;\n}\n\n.xr-attrs,\n.xr-var-attrs,\n.xr-var-data {\n  grid-column: 1 / -1;\n}\n\ndl.xr-attrs {\n  padding: 0;\n  margin: 0;\n  display: grid;\n  grid-template-columns: 125px auto;\n}\n\n.xr-attrs dt,\n.xr-attrs dd {\n  padding: 0;\n  margin: 0;\n  float: left;\n  padding-right: 10px;\n  width: auto;\n}\n\n.xr-attrs dt {\n  font-weight: normal;\n  grid-column: 1;\n}\n\n.xr-attrs dt:hover span {\n  display: inline-block;\n  background: var(--xr-background-color);\n  padding-right: 10px;\n}\n\n.xr-attrs dd {\n  grid-column: 2;\n  white-space: pre-wrap;\n  word-break: break-all;\n}\n\n.xr-icon-database,\n.xr-icon-file-text2 {\n  display: inline-block;\n  vertical-align: middle;\n  width: 1em;\n  height: 1.5em !important;\n  stroke-width: 0;\n  stroke: currentColor;\n  fill: currentColor;\n}\n</style><pre class='xr-text-repr-fallback'>&lt;xarray.Dataset&gt;\nDimensions:    (time: 97, xgrid: 316, ygrid: 332)\nCoordinates:\n    longitude  (ygrid, xgrid) float64 ...\n    latitude   (ygrid, xgrid) float64 ...\n  * ygrid      (ygrid) float32 4.338e+06 4.312e+06 ... -3.912e+06 -3.938e+06\n  * xgrid      (xgrid) float32 -3.938e+06 -3.912e+06 ... 3.912e+06 3.938e+06\n  * time       (time) datetime64[ns] 2002-10-15 2003-05-15 ... 2018-10-15\nData variables:\n    SIT        (time, ygrid, xgrid) float64 ...\nAttributes:\n    history:  Thu May 19 22:02:49 2022: ncpdq -a time,ygrid,xgrid SIT_SH_316x...\n    NCO:      netCDF Operators version 4.9.6 (Homepage = http://nco.sf.net, C...</pre><div class='xr-wrap' hidden><div class='xr-header'><div class='xr-obj-type'>xarray.Dataset</div></div><ul class='xr-sections'><li class='xr-section-item'><input id='section-96a33cee-a8a6-4cf0-ace9-b8e43f61f7c9' class='xr-section-summary-in' type='checkbox' disabled ><label for='section-96a33cee-a8a6-4cf0-ace9-b8e43f61f7c9' class='xr-section-summary'  title='Expand/collapse section'>Dimensions:</label><div class='xr-section-inline-details'><ul class='xr-dim-list'><li><span class='xr-has-index'>time</span>: 97</li><li><span class='xr-has-index'>xgrid</span>: 316</li><li><span class='xr-has-index'>ygrid</span>: 332</li></ul></div><div class='xr-section-details'></div></li><li class='xr-section-item'><input id='section-3839ffcc-e15c-46a2-899b-16009bcf27e1' class='xr-section-summary-in' type='checkbox'  checked><label for='section-3839ffcc-e15c-46a2-899b-16009bcf27e1' class='xr-section-summary' >Coordinates: <span>(5)</span></label><div class='xr-section-inline-details'></div><div class='xr-section-details'><ul class='xr-var-list'><li class='xr-var-item'><div class='xr-var-name'><span>longitude</span></div><div class='xr-var-dims'>(ygrid, xgrid)</div><div class='xr-var-dtype'>float64</div><div class='xr-var-preview xr-preview'>...</div><input id='attrs-10d96f78-17c1-462c-a946-ec02f4bc296b' class='xr-var-attrs-in' type='checkbox' disabled><label for='attrs-10d96f78-17c1-462c-a946-ec02f4bc296b' title='Show/Hide attributes'><svg class='icon xr-icon-file-text2'><use xlink:href='#icon-file-text2'></use></svg></label><input id='data-3d915037-13f6-495c-9a6b-dfce17023204' class='xr-var-data-in' type='checkbox'><label for='data-3d915037-13f6-495c-9a6b-dfce17023204' title='Show/Hide data repr'><svg class='icon xr-icon-database'><use xlink:href='#icon-database'></use></svg></label><div class='xr-var-attrs'><dl class='xr-attrs'></dl></div><div class='xr-var-data'><pre>[104912 values with dtype=float64]</pre></div></li><li class='xr-var-item'><div class='xr-var-name'><span>latitude</span></div><div class='xr-var-dims'>(ygrid, xgrid)</div><div class='xr-var-dtype'>float64</div><div class='xr-var-preview xr-preview'>...</div><input id='attrs-4241ad42-bb34-431d-90a2-1503d5ee0939' class='xr-var-attrs-in' type='checkbox' disabled><label for='attrs-4241ad42-bb34-431d-90a2-1503d5ee0939' title='Show/Hide attributes'><svg class='icon xr-icon-file-text2'><use xlink:href='#icon-file-text2'></use></svg></label><input id='data-04bf2f5e-9e1d-454c-9059-521df486dbb0' class='xr-var-data-in' type='checkbox'><label for='data-04bf2f5e-9e1d-454c-9059-521df486dbb0' title='Show/Hide data repr'><svg class='icon xr-icon-database'><use xlink:href='#icon-database'></use></svg></label><div class='xr-var-attrs'><dl class='xr-attrs'></dl></div><div class='xr-var-data'><pre>[104912 values with dtype=float64]</pre></div></li><li class='xr-var-item'><div class='xr-var-name'><span class='xr-has-index'>ygrid</span></div><div class='xr-var-dims'>(ygrid)</div><div class='xr-var-dtype'>float32</div><div class='xr-var-preview xr-preview'>4.338e+06 4.312e+06 ... -3.938e+06</div><input id='attrs-aba9414c-fbf2-4388-9e03-ebebc51d5c8a' class='xr-var-attrs-in' type='checkbox' disabled><label for='attrs-aba9414c-fbf2-4388-9e03-ebebc51d5c8a' title='Show/Hide attributes'><svg class='icon xr-icon-file-text2'><use xlink:href='#icon-file-text2'></use></svg></label><input id='data-45081839-f930-4d52-96c0-0eb520761d6c' class='xr-var-data-in' type='checkbox'><label for='data-45081839-f930-4d52-96c0-0eb520761d6c' title='Show/Hide data repr'><svg class='icon xr-icon-database'><use xlink:href='#icon-database'></use></svg></label><div class='xr-var-attrs'><dl class='xr-attrs'></dl></div><div class='xr-var-data'><pre>array([ 4337500.,  4312500.,  4287500., ..., -3887500., -3912500., -3937500.],\n      dtype=float32)</pre></div></li><li class='xr-var-item'><div class='xr-var-name'><span class='xr-has-index'>xgrid</span></div><div class='xr-var-dims'>(xgrid)</div><div class='xr-var-dtype'>float32</div><div class='xr-var-preview xr-preview'>-3.938e+06 -3.912e+06 ... 3.938e+06</div><input id='attrs-c3595bb0-e113-4db5-a636-4e05bec44d5b' class='xr-var-attrs-in' type='checkbox' disabled><label for='attrs-c3595bb0-e113-4db5-a636-4e05bec44d5b' title='Show/Hide attributes'><svg class='icon xr-icon-file-text2'><use xlink:href='#icon-file-text2'></use></svg></label><input id='data-fd33f1df-bca6-476f-9aa4-9bd7da7d9235' class='xr-var-data-in' type='checkbox'><label for='data-fd33f1df-bca6-476f-9aa4-9bd7da7d9235' title='Show/Hide data repr'><svg class='icon xr-icon-database'><use xlink:href='#icon-database'></use></svg></label><div class='xr-var-attrs'><dl class='xr-attrs'></dl></div><div class='xr-var-data'><pre>array([-3937500., -3912500., -3887500., ...,  3887500.,  3912500.,  3937500.],\n      dtype=float32)</pre></div></li><li class='xr-var-item'><div class='xr-var-name'><span class='xr-has-index'>time</span></div><div class='xr-var-dims'>(time)</div><div class='xr-var-dtype'>datetime64[ns]</div><div class='xr-var-preview xr-preview'>2002-10-15 ... 2018-10-15</div><input id='attrs-bbb934e5-0d1a-42ca-a3b8-0a70574eb224' class='xr-var-attrs-in' type='checkbox' ><label for='attrs-bbb934e5-0d1a-42ca-a3b8-0a70574eb224' title='Show/Hide attributes'><svg class='icon xr-icon-file-text2'><use xlink:href='#icon-file-text2'></use></svg></label><input id='data-38997abf-516a-4b4b-91f6-46a4ebe573c2' class='xr-var-data-in' type='checkbox'><label for='data-38997abf-516a-4b4b-91f6-46a4ebe573c2' title='Show/Hide data repr'><svg class='icon xr-icon-database'><use xlink:href='#icon-database'></use></svg></label><div class='xr-var-attrs'><dl class='xr-attrs'><dt><span>standard_name :</span></dt><dd>time</dd><dt><span>axis :</span></dt><dd>T</dd></dl></div><div class='xr-var-data'><pre>array([&#x27;2002-10-15T00:00:00.000000000&#x27;, &#x27;2003-05-15T00:00:00.000000000&#x27;,\n       &#x27;2003-06-15T00:00:00.000000000&#x27;, &#x27;2003-07-15T00:00:00.000000000&#x27;,\n       &#x27;2003-08-15T00:00:00.000000000&#x27;, &#x27;2003-09-15T00:00:00.000000000&#x27;,\n       &#x27;2003-10-15T00:00:00.000000000&#x27;, &#x27;2004-05-15T00:00:00.000000000&#x27;,\n       &#x27;2004-06-15T00:00:00.000000000&#x27;, &#x27;2004-07-15T00:00:00.000000000&#x27;,\n       &#x27;2004-08-15T00:00:00.000000000&#x27;, &#x27;2004-09-15T00:00:00.000000000&#x27;,\n       &#x27;2004-10-15T00:00:00.000000000&#x27;, &#x27;2005-05-15T00:00:00.000000000&#x27;,\n       &#x27;2005-06-15T00:00:00.000000000&#x27;, &#x27;2005-07-15T00:00:00.000000000&#x27;,\n       &#x27;2005-08-15T00:00:00.000000000&#x27;, &#x27;2005-09-15T00:00:00.000000000&#x27;,\n       &#x27;2005-10-15T00:00:00.000000000&#x27;, &#x27;2006-05-15T00:00:00.000000000&#x27;,\n       &#x27;2006-06-15T00:00:00.000000000&#x27;, &#x27;2006-07-15T00:00:00.000000000&#x27;,\n       &#x27;2006-08-15T00:00:00.000000000&#x27;, &#x27;2006-09-15T00:00:00.000000000&#x27;,\n       &#x27;2006-10-15T00:00:00.000000000&#x27;, &#x27;2007-05-15T00:00:00.000000000&#x27;,\n       &#x27;2007-06-15T00:00:00.000000000&#x27;, &#x27;2007-07-15T00:00:00.000000000&#x27;,\n       &#x27;2007-08-15T00:00:00.000000000&#x27;, &#x27;2007-09-15T00:00:00.000000000&#x27;,\n       &#x27;2007-10-15T00:00:00.000000000&#x27;, &#x27;2008-05-15T00:00:00.000000000&#x27;,\n       &#x27;2008-06-15T00:00:00.000000000&#x27;, &#x27;2008-07-15T00:00:00.000000000&#x27;,\n       &#x27;2008-08-15T00:00:00.000000000&#x27;, &#x27;2008-09-15T00:00:00.000000000&#x27;,\n       &#x27;2008-10-15T00:00:00.000000000&#x27;, &#x27;2009-05-15T00:00:00.000000000&#x27;,\n       &#x27;2009-06-15T00:00:00.000000000&#x27;, &#x27;2009-07-15T00:00:00.000000000&#x27;,\n       &#x27;2009-08-15T00:00:00.000000000&#x27;, &#x27;2009-09-15T00:00:00.000000000&#x27;,\n       &#x27;2009-10-15T00:00:00.000000000&#x27;, &#x27;2010-05-15T00:00:00.000000000&#x27;,\n       &#x27;2010-06-15T00:00:00.000000000&#x27;, &#x27;2010-07-15T00:00:00.000000000&#x27;,\n       &#x27;2010-08-15T00:00:00.000000000&#x27;, &#x27;2010-09-15T00:00:00.000000000&#x27;,\n       &#x27;2010-10-15T00:00:00.000000000&#x27;, &#x27;2011-05-15T00:00:00.000000000&#x27;,\n       &#x27;2011-06-15T00:00:00.000000000&#x27;, &#x27;2011-07-15T00:00:00.000000000&#x27;,\n       &#x27;2011-08-15T00:00:00.000000000&#x27;, &#x27;2011-09-15T00:00:00.000000000&#x27;,\n       &#x27;2011-10-15T00:00:00.000000000&#x27;, &#x27;2012-05-15T00:00:00.000000000&#x27;,\n       &#x27;2012-06-15T00:00:00.000000000&#x27;, &#x27;2012-07-15T00:00:00.000000000&#x27;,\n       &#x27;2012-08-15T00:00:00.000000000&#x27;, &#x27;2012-09-15T00:00:00.000000000&#x27;,\n       &#x27;2012-10-15T00:00:00.000000000&#x27;, &#x27;2013-05-15T00:00:00.000000000&#x27;,\n       &#x27;2013-06-15T00:00:00.000000000&#x27;, &#x27;2013-07-15T00:00:00.000000000&#x27;,\n       &#x27;2013-08-15T00:00:00.000000000&#x27;, &#x27;2013-09-15T00:00:00.000000000&#x27;,\n       &#x27;2013-10-15T00:00:00.000000000&#x27;, &#x27;2014-05-15T00:00:00.000000000&#x27;,\n       &#x27;2014-06-15T00:00:00.000000000&#x27;, &#x27;2014-07-15T00:00:00.000000000&#x27;,\n       &#x27;2014-08-15T00:00:00.000000000&#x27;, &#x27;2014-09-15T00:00:00.000000000&#x27;,\n       &#x27;2014-10-15T00:00:00.000000000&#x27;, &#x27;2015-05-15T00:00:00.000000000&#x27;,\n       &#x27;2015-06-15T00:00:00.000000000&#x27;, &#x27;2015-07-15T00:00:00.000000000&#x27;,\n       &#x27;2015-08-15T00:00:00.000000000&#x27;, &#x27;2015-09-15T00:00:00.000000000&#x27;,\n       &#x27;2015-10-15T00:00:00.000000000&#x27;, &#x27;2016-05-15T00:00:00.000000000&#x27;,\n       &#x27;2016-06-15T00:00:00.000000000&#x27;, &#x27;2016-07-15T00:00:00.000000000&#x27;,\n       &#x27;2016-08-15T00:00:00.000000000&#x27;, &#x27;2016-09-15T00:00:00.000000000&#x27;,\n       &#x27;2016-10-15T00:00:00.000000000&#x27;, &#x27;2017-05-15T00:00:00.000000000&#x27;,\n       &#x27;2017-06-15T00:00:00.000000000&#x27;, &#x27;2017-07-15T00:00:00.000000000&#x27;,\n       &#x27;2017-08-15T00:00:00.000000000&#x27;, &#x27;2017-09-15T00:00:00.000000000&#x27;,\n       &#x27;2017-10-15T00:00:00.000000000&#x27;, &#x27;2018-05-15T00:00:00.000000000&#x27;,\n       &#x27;2018-06-15T00:00:00.000000000&#x27;, &#x27;2018-07-15T00:00:00.000000000&#x27;,\n       &#x27;2018-08-15T00:00:00.000000000&#x27;, &#x27;2018-09-15T00:00:00.000000000&#x27;,\n       &#x27;2018-10-15T00:00:00.000000000&#x27;], dtype=&#x27;datetime64[ns]&#x27;)</pre></div></li></ul></div></li><li class='xr-section-item'><input id='section-4da39118-93a5-4e37-856b-22ba2810a793' class='xr-section-summary-in' type='checkbox'  checked><label for='section-4da39118-93a5-4e37-856b-22ba2810a793' class='xr-section-summary' >Data variables: <span>(1)</span></label><div class='xr-section-inline-details'></div><div class='xr-section-details'><ul class='xr-var-list'><li class='xr-var-item'><div class='xr-var-name'><span>SIT</span></div><div class='xr-var-dims'>(time, ygrid, xgrid)</div><div class='xr-var-dtype'>float64</div><div class='xr-var-preview xr-preview'>...</div><input id='attrs-d024aa4b-f055-48bb-b3ae-36e24ea8f490' class='xr-var-attrs-in' type='checkbox' disabled><label for='attrs-d024aa4b-f055-48bb-b3ae-36e24ea8f490' title='Show/Hide attributes'><svg class='icon xr-icon-file-text2'><use xlink:href='#icon-file-text2'></use></svg></label><input id='data-9aa79f80-5fb5-4226-a945-f11a4a6876f7' class='xr-var-data-in' type='checkbox'><label for='data-9aa79f80-5fb5-4226-a945-f11a4a6876f7' title='Show/Hide data repr'><svg class='icon xr-icon-database'><use xlink:href='#icon-database'></use></svg></label><div class='xr-var-attrs'><dl class='xr-attrs'></dl></div><div class='xr-var-data'><pre>[10176464 values with dtype=float64]</pre></div></li></ul></div></li><li class='xr-section-item'><input id='section-5b60bf0a-0fe6-432b-86ac-0b59b7726d38' class='xr-section-summary-in' type='checkbox'  checked><label for='section-5b60bf0a-0fe6-432b-86ac-0b59b7726d38' class='xr-section-summary' >Attributes: <span>(2)</span></label><div class='xr-section-inline-details'></div><div class='xr-section-details'><dl class='xr-attrs'><dt><span>history :</span></dt><dd>Thu May 19 22:02:49 2022: ncpdq -a time,ygrid,xgrid SIT_SH_316x332.nc SIT_SH_Filled_316x332.nc</dd><dt><span>NCO :</span></dt><dd>netCDF Operators version 4.9.6 (Homepage = http://nco.sf.net, Code = http://github.com/nco/nco)</dd></dl></div></li></ul></div></div>"
     },
     "execution_count": 4,
     "metadata": {},
     "output_type": "execute_result"
    }
   ],
   "source": [
    "data_sit"
   ],
   "metadata": {
    "collapsed": false,
    "pycharm": {
     "name": "#%%\n"
    }
   }
  },
  {
   "cell_type": "code",
   "execution_count": 5,
   "outputs": [],
   "source": [
    "latitude = data_sit.latitude\n",
    "longitude = data_sit.longitude\n",
    "time = data_sit[\"time\"]"
   ],
   "metadata": {
    "collapsed": false,
    "pycharm": {
     "name": "#%%\n"
    }
   }
  },
  {
   "cell_type": "code",
   "execution_count": 7,
   "outputs": [],
   "source": [
    "#converting xarray.dataArray to numpy array\n",
    "nu_sia = data_sia['__xarray_dataarray_variable__'].values\n",
    "nu_sit = data_sit['SIT'].values"
   ],
   "metadata": {
    "collapsed": false,
    "pycharm": {
     "name": "#%%\n"
    }
   }
  },
  {
   "cell_type": "code",
   "execution_count": 8,
   "outputs": [
    {
     "data": {
      "text/plain": "(97, 332, 316)"
     },
     "execution_count": 8,
     "metadata": {},
     "output_type": "execute_result"
    }
   ],
   "source": [
    "nu_sit.shape"
   ],
   "metadata": {
    "collapsed": false,
    "pycharm": {
     "name": "#%%\n"
    }
   }
  },
  {
   "cell_type": "code",
   "execution_count": 9,
   "outputs": [
    {
     "data": {
      "text/plain": "(97, 332, 316)"
     },
     "execution_count": 9,
     "metadata": {},
     "output_type": "execute_result"
    }
   ],
   "source": [
    "prod = np.multiply(nu_sia, nu_sit)\n",
    "prod.shape"
   ],
   "metadata": {
    "collapsed": false,
    "pycharm": {
     "name": "#%%\n"
    }
   }
  },
  {
   "cell_type": "code",
   "execution_count": 10,
   "outputs": [],
   "source": [
    "volume = prod"
   ],
   "metadata": {
    "collapsed": false,
    "pycharm": {
     "name": "#%%\n"
    }
   }
  },
  {
   "cell_type": "code",
   "execution_count": 11,
   "outputs": [
    {
     "data": {
      "text/plain": "(97, 332, 316)"
     },
     "execution_count": 11,
     "metadata": {},
     "output_type": "execute_result"
    }
   ],
   "source": [
    "volume.shape"
   ],
   "metadata": {
    "collapsed": false,
    "pycharm": {
     "name": "#%%\n"
    }
   }
  },
  {
   "cell_type": "code",
   "execution_count": 12,
   "outputs": [],
   "source": [
    "da = xr.DataArray(\n",
    "    data=volume,\n",
    "    dims=[\"time\",\"ygrid\",\"xgrid\"],\n",
    "    coords=dict(\n",
    "        time=time,\n",
    "        longitude=([\"ygrid\",\"xgrid\"],longitude),\n",
    "        latitude=([\"ygrid\",\"xgrid\"],latitude),\n",
    "    ),\n",
    "    attrs=dict(\n",
    "        description=\"Sea Ice Volume.\",\n",
    "        units=\"km3\",\n",
    "    ),\n",
    ")"
   ],
   "metadata": {
    "collapsed": false,
    "pycharm": {
     "name": "#%%\n"
    }
   }
  },
  {
   "cell_type": "code",
   "execution_count": 13,
   "outputs": [],
   "source": [
    "da.to_netcdf('/Users/fridaperez/Developer/repos/local_repo/Merged_Volume_2002-2018.nc')"
   ],
   "metadata": {
    "collapsed": false,
    "pycharm": {
     "name": "#%%\n"
    }
   }
  },
  {
   "cell_type": "code",
   "execution_count": 14,
   "outputs": [],
   "source": [
    "file = '/Users/fridaperez/Developer/repos/local_repo/Merged_Volume_2002-2018.nc'\n",
    "datos = xr.open_dataset(file)"
   ],
   "metadata": {
    "collapsed": false,
    "pycharm": {
     "name": "#%%\n"
    }
   }
  },
  {
   "cell_type": "code",
   "execution_count": 15,
   "outputs": [],
   "source": [
    "newset=datos.rename_vars({'__xarray_dataarray_variable__':'volume'})"
   ],
   "metadata": {
    "collapsed": false,
    "pycharm": {
     "name": "#%%\n"
    }
   }
  },
  {
   "cell_type": "code",
   "execution_count": 16,
   "outputs": [],
   "source": [
    "newset.to_netcdf('/Users/fridaperez/Developer/repos/local_repo/Volume_SH_ENV-CY2_2002-2018.nc')"
   ],
   "metadata": {
    "collapsed": false,
    "pycharm": {
     "name": "#%%\n"
    }
   }
  }
 ],
 "metadata": {
  "kernelspec": {
   "name": "resample_venv",
   "language": "python",
   "display_name": "resample_venv"
  },
  "language_info": {
   "codemirror_mode": {
    "name": "ipython",
    "version": 2
   },
   "file_extension": ".py",
   "mimetype": "text/x-python",
   "name": "python",
   "nbconvert_exporter": "python",
   "pygments_lexer": "ipython2",
   "version": "2.7.6"
  }
 },
 "nbformat": 4,
 "nbformat_minor": 0
}