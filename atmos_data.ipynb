{
 "cells": [
  {
   "cell_type": "markdown",
   "source": [
    "### v2: written in IDL (Hosking et al., 2016)\n",
    "### v3: writtin in python, using scikit-image (see here)"
   ],
   "metadata": {
    "collapsed": false,
    "pycharm": {
     "name": "#%% md\n"
    }
   }
  },
  {
   "cell_type": "code",
   "execution_count": 1,
   "outputs": [],
   "source": [
    "import pandas as pd\n",
    "import datetime\n",
    "import matplotlib.pyplot as plt\n",
    "import cartopy.crs as ccrs\n",
    "import numpy as np\n",
    "import xarray as xr"
   ],
   "metadata": {
    "collapsed": false,
    "pycharm": {
     "name": "#%%\n"
    }
   }
  },
  {
   "cell_type": "markdown",
   "source": [
    "### Read in ASL index (v2)\n",
    "### process date to 'YYYY-MM-01'\n",
    "### rename columns so we can merge indices\n"
   ],
   "metadata": {
    "collapsed": false,
    "pycharm": {
     "name": "#%% md\n"
    }
   }
  },
  {
   "cell_type": "code",
   "execution_count": 2,
   "outputs": [
    {
     "data": {
      "text/plain": "     SectorPres2  ActCenPres2      lon2     lat2        time  RelCenPres2\n468     982.0830     973.2958  253.1250 -67.7190  2018-01-01      -8.7872\n469     979.9778     972.6861  260.8594 -64.2103  2018-02-01      -7.2917\n470     982.9297     974.5146  279.8438 -67.7190  2018-03-01      -8.4151",
      "text/html": "<div>\n<style scoped>\n    .dataframe tbody tr th:only-of-type {\n        vertical-align: middle;\n    }\n\n    .dataframe tbody tr th {\n        vertical-align: top;\n    }\n\n    .dataframe thead th {\n        text-align: right;\n    }\n</style>\n<table border=\"1\" class=\"dataframe\">\n  <thead>\n    <tr style=\"text-align: right;\">\n      <th></th>\n      <th>SectorPres2</th>\n      <th>ActCenPres2</th>\n      <th>lon2</th>\n      <th>lat2</th>\n      <th>time</th>\n      <th>RelCenPres2</th>\n    </tr>\n  </thead>\n  <tbody>\n    <tr>\n      <th>468</th>\n      <td>982.0830</td>\n      <td>973.2958</td>\n      <td>253.1250</td>\n      <td>-67.7190</td>\n      <td>2018-01-01</td>\n      <td>-8.7872</td>\n    </tr>\n    <tr>\n      <th>469</th>\n      <td>979.9778</td>\n      <td>972.6861</td>\n      <td>260.8594</td>\n      <td>-64.2103</td>\n      <td>2018-02-01</td>\n      <td>-7.2917</td>\n    </tr>\n    <tr>\n      <th>470</th>\n      <td>982.9297</td>\n      <td>974.5146</td>\n      <td>279.8438</td>\n      <td>-67.7190</td>\n      <td>2018-03-01</td>\n      <td>-8.4151</td>\n    </tr>\n  </tbody>\n</table>\n</div>"
     },
     "execution_count": 2,
     "metadata": {},
     "output_type": "execute_result"
    }
   ],
   "source": [
    "asli_v2 = pd.read_csv(\n",
    "    'https://bas.ac.uk/data/absl/ASL-index-Version2-Monthly-ERA-Interim_Hosking2016.txt',\n",
    "    skiprows=21, delim_whitespace=True)\n",
    "\n",
    "time = [ datetime.date(int(row.Year), int(row.Month), 1).strftime('%Y-%m-%d') for i, row in asli_v2.iterrows() ]\n",
    "\n",
    "asli_v2['time'] = time\n",
    "\n",
    "asli_v2['RelCenPres'] = asli_v2['ActCenPres'] - asli_v2['SectorPres']\n",
    "\n",
    "for col in ['lat','lon','ActCenPres','SectorPres','RelCenPres']:\n",
    "    asli_v2.rename({col: col+'2'}, axis=1, inplace=True)\n",
    "\n",
    "asli_v2 = asli_v2.drop(labels=['Year', 'Month'], axis=1)\n",
    "\n",
    "asli_v2.iloc[-3:]"
   ],
   "metadata": {
    "collapsed": false,
    "pycharm": {
     "name": "#%%\n"
    }
   }
  },
  {
   "cell_type": "markdown",
   "source": [
    "### Read in ASL index (v3)\n",
    "### rename columns so we can merge indices"
   ],
   "metadata": {
    "collapsed": false,
    "pycharm": {
     "name": "#%% md\n"
    }
   }
  },
  {
   "cell_type": "code",
   "execution_count": 3,
   "outputs": [
    {
     "data": {
      "text/plain": "           time    lon3   lat3  ActCenPres3  SectorPres3  RelCenPres3\n514  2021-11-01  255.75 -70.00   966.653748    975.75385    -9.100098\n515  2021-12-01  253.25 -71.25   968.441101    976.56810    -8.127014\n516  2022-01-01  210.00 -70.50   978.003418    985.34570    -7.342285",
      "text/html": "<div>\n<style scoped>\n    .dataframe tbody tr th:only-of-type {\n        vertical-align: middle;\n    }\n\n    .dataframe tbody tr th {\n        vertical-align: top;\n    }\n\n    .dataframe thead th {\n        text-align: right;\n    }\n</style>\n<table border=\"1\" class=\"dataframe\">\n  <thead>\n    <tr style=\"text-align: right;\">\n      <th></th>\n      <th>time</th>\n      <th>lon3</th>\n      <th>lat3</th>\n      <th>ActCenPres3</th>\n      <th>SectorPres3</th>\n      <th>RelCenPres3</th>\n    </tr>\n  </thead>\n  <tbody>\n    <tr>\n      <th>514</th>\n      <td>2021-11-01</td>\n      <td>255.75</td>\n      <td>-70.00</td>\n      <td>966.653748</td>\n      <td>975.75385</td>\n      <td>-9.100098</td>\n    </tr>\n    <tr>\n      <th>515</th>\n      <td>2021-12-01</td>\n      <td>253.25</td>\n      <td>-71.25</td>\n      <td>968.441101</td>\n      <td>976.56810</td>\n      <td>-8.127014</td>\n    </tr>\n    <tr>\n      <th>516</th>\n      <td>2022-01-01</td>\n      <td>210.00</td>\n      <td>-70.50</td>\n      <td>978.003418</td>\n      <td>985.34570</td>\n      <td>-7.342285</td>\n    </tr>\n  </tbody>\n</table>\n</div>"
     },
     "execution_count": 3,
     "metadata": {},
     "output_type": "execute_result"
    }
   ],
   "source": [
    "asli_v3 = pd.read_csv(\n",
    "    'https://raw.githubusercontent.com/scotthosking/amundsen-sea-low-index/master/asli_era5_v3-latest.csv',\n",
    "                      skiprows=26,sep= ',')\n",
    "\n",
    "for col in ['lat','lon','ActCenPres','SectorPres','RelCenPres']:\n",
    "    asli_v3.rename({col: col+'3'}, axis=1, inplace=True)\n",
    "\n",
    "asli_v3.iloc[-3:]"
   ],
   "metadata": {
    "collapsed": false,
    "pycharm": {
     "name": "#%%\n"
    }
   }
  },
  {
   "cell_type": "markdown",
   "source": [
    "### Merge two dataframes in time so we can compare them"
   ],
   "metadata": {
    "collapsed": false,
    "pycharm": {
     "name": "#%% md\n"
    }
   }
  },
  {
   "cell_type": "code",
   "execution_count": 16,
   "outputs": [],
   "source": [
    "df = pd.merge(asli_v3,asli_v2, on='time')"
   ],
   "metadata": {
    "collapsed": false,
    "pycharm": {
     "name": "#%%\n"
    }
   }
  },
  {
   "cell_type": "code",
   "execution_count": 19,
   "outputs": [
    {
     "data": {
      "text/plain": "           time    lon3   lat3  ActCenPres3  SectorPres3  RelCenPres3  \\\n468  2018-01-01  252.50 -67.25   973.833374    982.87110    -9.037720   \n469  2018-02-01  260.75 -64.25   973.422119    980.88240    -7.460266   \n470  2018-03-01  279.00 -69.75   974.943359    983.25256    -8.309204   \n\n     SectorPres2  ActCenPres2      lon2     lat2  RelCenPres2  \n468     982.0830     973.2958  253.1250 -67.7190      -8.7872  \n469     979.9778     972.6861  260.8594 -64.2103      -7.2917  \n470     982.9297     974.5146  279.8438 -67.7190      -8.4151  ",
      "text/html": "<div>\n<style scoped>\n    .dataframe tbody tr th:only-of-type {\n        vertical-align: middle;\n    }\n\n    .dataframe tbody tr th {\n        vertical-align: top;\n    }\n\n    .dataframe thead th {\n        text-align: right;\n    }\n</style>\n<table border=\"1\" class=\"dataframe\">\n  <thead>\n    <tr style=\"text-align: right;\">\n      <th></th>\n      <th>time</th>\n      <th>lon3</th>\n      <th>lat3</th>\n      <th>ActCenPres3</th>\n      <th>SectorPres3</th>\n      <th>RelCenPres3</th>\n      <th>SectorPres2</th>\n      <th>ActCenPres2</th>\n      <th>lon2</th>\n      <th>lat2</th>\n      <th>RelCenPres2</th>\n    </tr>\n  </thead>\n  <tbody>\n    <tr>\n      <th>468</th>\n      <td>2018-01-01</td>\n      <td>252.50</td>\n      <td>-67.25</td>\n      <td>973.833374</td>\n      <td>982.87110</td>\n      <td>-9.037720</td>\n      <td>982.0830</td>\n      <td>973.2958</td>\n      <td>253.1250</td>\n      <td>-67.7190</td>\n      <td>-8.7872</td>\n    </tr>\n    <tr>\n      <th>469</th>\n      <td>2018-02-01</td>\n      <td>260.75</td>\n      <td>-64.25</td>\n      <td>973.422119</td>\n      <td>980.88240</td>\n      <td>-7.460266</td>\n      <td>979.9778</td>\n      <td>972.6861</td>\n      <td>260.8594</td>\n      <td>-64.2103</td>\n      <td>-7.2917</td>\n    </tr>\n    <tr>\n      <th>470</th>\n      <td>2018-03-01</td>\n      <td>279.00</td>\n      <td>-69.75</td>\n      <td>974.943359</td>\n      <td>983.25256</td>\n      <td>-8.309204</td>\n      <td>982.9297</td>\n      <td>974.5146</td>\n      <td>279.8438</td>\n      <td>-67.7190</td>\n      <td>-8.4151</td>\n    </tr>\n  </tbody>\n</table>\n</div>"
     },
     "execution_count": 19,
     "metadata": {},
     "output_type": "execute_result"
    }
   ],
   "source": [
    "df.iloc[-3:]"
   ],
   "metadata": {
    "collapsed": false,
    "pycharm": {
     "name": "#%%\n"
    }
   }
  },
  {
   "cell_type": "markdown",
   "source": [
    "## Scatter plots to compare v2 and v3b"
   ],
   "metadata": {
    "collapsed": false,
    "pycharm": {
     "name": "#%% md\n"
    }
   }
  },
  {
   "cell_type": "code",
   "execution_count": 18,
   "outputs": [
    {
     "data": {
      "text/plain": "[<matplotlib.lines.Line2D at 0x7f95d4f77820>]"
     },
     "execution_count": 18,
     "metadata": {},
     "output_type": "execute_result"
    },
    {
     "data": {
      "text/plain": "<Figure size 432x288 with 1 Axes>",
      "image/png": "[encoded data removed]"
     },
     "metadata": {
      "needs_background": "light"
     },
     "output_type": "display_data"
    }
   ],
   "source": [
    "plt.scatter(df['lon2'],df['lon3'])\n",
    "plt.plot([170,300], [170,300], 'k-')"
   ],
   "metadata": {
    "collapsed": false,
    "pycharm": {
     "name": "#%%\n"
    }
   }
  },
  {
   "cell_type": "code",
   "execution_count": 8,
   "outputs": [],
   "source": [
    "asli_v3.to_csv('/Users/fridaperez/Desktop/Atmosindex/ASL_index.csv')"
   ],
   "metadata": {
    "collapsed": false,
    "pycharm": {
     "name": "#%%\n"
    }
   }
  },
  {
   "cell_type": "markdown",
   "source": [
    "## Get SOI data"
   ],
   "metadata": {
    "collapsed": false,
    "pycharm": {
     "name": "#%% md\n"
    }
   }
  },
  {
   "cell_type": "code",
   "execution_count": 9,
   "outputs": [
    {
     "name": "stdout",
     "output_type": "stream",
     "text": [
      "     1866  1.0  -0.1  0.9   0.3  -0.2   0.8  0.3.1   0.4  -0.1.1   0.0  -0.0  \\\n",
      "0    1867  1.2   0.0  1.3   0.3  -0.2   0.1   -0.0  -0.2    -0.6  -1.0   1.8   \n",
      "1    1868 -0.2   0.5  1.0   0.8   1.5   1.4    0.6   0.9     0.6   0.7   1.8   \n",
      "2    1869  1.5   1.0  2.3  -2.6  -1.6  -1.3   -0.3  -1.3    -0.4  -1.5  -0.9   \n",
      "3    1870 -2.3  -1.2  1.5   0.6   0.9   1.0   -0.1  -1.0    -0.2   0.4   0.7   \n",
      "4    1871  0.7   0.7  2.1   0.2   0.3   0.1    0.2   0.1    -0.3  -0.5  -0.5   \n",
      "..    ...  ...   ...  ...   ...   ...   ...    ...   ...     ...   ...   ...   \n",
      "151  2018 -1.4   0.6 -1.3   0.1   1.3   1.4   -0.0   0.5     0.4   0.4   0.7   \n",
      "152  2019  0.6   2.6  1.0   0.7   1.4   1.5    1.4   1.7     2.6   0.8   1.0   \n",
      "153  2020  1.0   1.0  1.7   1.1   1.5   0.6   -0.1  -0.1    -0.3  -0.6   0.3   \n",
      "154  2021 -0.6  -1.4  0.7   0.3   0.4   0.8   -0.5   0.7     0.1  -0.9  -0.4   \n",
      "155  2022  0.3   0.5  0.1 -99.9 -99.9 -99.9  -99.9 -99.9   -99.9 -99.9 -99.9   \n",
      "\n",
      "      0.5  \n",
      "0     0.6  \n",
      "1     0.4  \n",
      "2    -1.2  \n",
      "3     1.6  \n",
      "4    -0.1  \n",
      "..    ...  \n",
      "151  -1.1  \n",
      "152   1.1  \n",
      "153  -0.8  \n",
      "154  -0.8  \n",
      "155 -99.9  \n",
      "\n",
      "[156 rows x 13 columns]\n"
     ]
    }
   ],
   "source": [
    "SOI = pd.read_csv(\n",
    "    'https://climatedataguide.ucar.edu/sites/default/files/darwin.anom_.txt', delim_whitespace=True)\n",
    "print(SOI)\n",
    "SOI.to_csv('/Users/fridaperez/Desktop/Atmosindex/SOI_index.csv')\n"
   ],
   "metadata": {
    "collapsed": false,
    "pycharm": {
     "name": "#%%\n"
    }
   }
  },
  {
   "cell_type": "markdown",
   "source": [
    "## Getting SAM index"
   ],
   "metadata": {
    "collapsed": false,
    "pycharm": {
     "name": "#%% md\n"
    }
   }
  },
  {
   "cell_type": "code",
   "execution_count": 10,
   "outputs": [
    {
     "name": "stdout",
     "output_type": "stream",
     "text": [
      "       JAN   FEB   MAR   APR   MAY   JUN   JUL   AUG   SEP   OCT   NOV   DEC\n",
      "1957 -0.87 -2.27  0.07 -1.97 -2.50 -0.87  1.00 -1.73  0.72 -3.12 -5.42 -2.63\n",
      "1958  0.04 -2.84 -2.52 -0.30 -2.72 -0.97 -1.65  0.97  1.90 -0.16  0.30  0.82\n",
      "1959  1.59 -0.19 -0.54 -1.25 -0.32 -1.12  0.18 -1.64  2.46 -0.46  3.28 -0.38\n",
      "1960  0.90  0.85  3.40 -0.35 -0.60 -0.17  0.31  0.43  1.41 -1.17  1.18  1.36\n",
      "1961  0.91 -4.00 -0.40 -0.14  1.12 -0.40  0.98  1.10 -1.21  1.64  1.52  2.32\n",
      "...    ...   ...   ...   ...   ...   ...   ...   ...   ...   ...   ...   ...\n",
      "2018  2.72  1.02 -0.03 -1.66  0.01 -1.57  0.55 -0.78  1.83  2.76  2.84  1.44\n",
      "2019  2.79 -1.87  1.47  0.86 -0.11  2.21 -2.20 -2.04  0.81 -1.97 -4.42 -1.78\n",
      "2020  0.57 -0.36  2.05 -1.72  1.03  1.18 -0.97 -2.20 -0.25  1.79  1.14  2.28\n",
      "2021  1.95  2.19 -0.95  0.87  0.75  1.88 -1.06  0.73  1.68  0.80  2.69  2.74\n",
      "2022  2.19  1.92  1.28   NaN   NaN   NaN   NaN   NaN   NaN   NaN   NaN   NaN\n",
      "\n",
      "[66 rows x 12 columns]\n"
     ]
    }
   ],
   "source": [
    "SAM = pd.read_csv(\n",
    "    'http://www.nerc-bas.ac.uk/public/icd/gjma/newsam.1957.2007.txt', delim_whitespace=True)\n",
    "print(SAM)\n",
    "SAM.to_csv('/Users/fridaperez/Desktop/Atmosindex/SAM_index.csv')\n"
   ],
   "metadata": {
    "collapsed": false,
    "pycharm": {
     "name": "#%%\n"
    }
   }
  },
  {
   "cell_type": "code",
   "execution_count": null,
   "outputs": [],
   "source": [],
   "metadata": {
    "collapsed": false,
    "pycharm": {
     "name": "#%%\n"
    }
   }
  }
 ],
 "metadata": {
  "kernelspec": {
   "display_name": "Python 3",
   "language": "python",
   "name": "python3"
  },
  "language_info": {
   "codemirror_mode": {
    "name": "ipython",
    "version": 2
   },
   "file_extension": ".py",
   "mimetype": "text/x-python",
   "name": "python",
   "nbconvert_exporter": "python",
   "pygments_lexer": "ipython2",
   "version": "2.7.6"
  }
 },
 "nbformat": 4,
 "nbformat_minor": 0
}